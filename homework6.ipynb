{
 "cells": [
  {
   "cell_type": "markdown",
   "metadata": {},
   "source": [
    "<div class=\"frontmatter text-center\">\n",
    "<h2> MATH5027 Scientific Python, Fall 2017</h2>\n",
    "<h2> Homework 6, Due: Tuesday October 31st, 6:00pm </h2>\n",
    "</div>\n",
    "\n",
    "Instructions: complete the selection of exercises from the week's class notebooks. Use markdown cells between code examples to explain."
   ]
  },
  {
   "cell_type": "markdown",
   "metadata": {},
   "source": [
    "# Questions \n",
    "\n",
    "## Class 9\n",
    "Recall we have two csvs: passengers that we know survived or perished, a new data on passengers without survival information. Predict the chances of survival of these new data points using their age, sex, and pclass. Specifically:\n",
    "\n",
    "First using the old data:\n",
    "\n",
    "1) bin the age variable into 3 groups (young, middle-aged, old),\n",
    "\n",
    "2) calculate the average rate of survival for people in each age/sex/pclass group, \n",
    "\n",
    "Then on the new data:\n",
    "\n",
    "3) infer the chance of survival of each of the new passengers using these averages.\n",
    "\n",
    "4) plot a histogram of the estimated survivial chances for the new passengers"
   ]
  },
  {
   "cell_type": "code",
   "execution_count": 1,
   "metadata": {
    "collapsed": true
   },
   "outputs": [],
   "source": [
    "import pandas as pd\n",
    "import numpy as np\n",
    "import matplotlib.pyplot as plt"
   ]
  },
  {
   "cell_type": "markdown",
   "metadata": {},
   "source": [
    "## Class 9"
   ]
  },
  {
   "cell_type": "markdown",
   "metadata": {},
   "source": [
    "1) bin the age variable into 3 groups (young, middle-aged, old)"
   ]
  },
  {
   "cell_type": "code",
   "execution_count": 15,
   "metadata": {
    "collapsed": true
   },
   "outputs": [],
   "source": [
    "df=pd.read_csv('titanic.csv',header=0,sep=',')"
   ]
  },
  {
   "cell_type": "code",
   "execution_count": 16,
   "metadata": {
    "collapsed": true
   },
   "outputs": [],
   "source": [
    "bins = [0, 25, 55, 100]\n",
    "label_names = [\"young\", \"middle-aged\", \"old\"]\n",
    "df[\"age_group\"] = pd.cut(df[\"Age\"], bins, labels = label_names)"
   ]
  },
  {
   "cell_type": "markdown",
   "metadata": {},
   "source": [
    "2 ) calculate the average rate of survival for people in each age/sex/pclass group"
   ]
  },
  {
   "cell_type": "code",
   "execution_count": 17,
   "metadata": {
    "scrolled": true
   },
   "outputs": [
    {
     "data": {
      "text/html": [
       "<div>\n",
       "<style>\n",
       "    .dataframe thead tr:only-child th {\n",
       "        text-align: right;\n",
       "    }\n",
       "\n",
       "    .dataframe thead th {\n",
       "        text-align: left;\n",
       "    }\n",
       "\n",
       "    .dataframe tbody tr th {\n",
       "        vertical-align: top;\n",
       "    }\n",
       "</style>\n",
       "<table border=\"1\" class=\"dataframe\">\n",
       "  <thead>\n",
       "    <tr style=\"text-align: right;\">\n",
       "      <th></th>\n",
       "      <th></th>\n",
       "      <th></th>\n",
       "      <th>Survived</th>\n",
       "    </tr>\n",
       "    <tr>\n",
       "      <th>Pclass</th>\n",
       "      <th>Sex</th>\n",
       "      <th>age_group</th>\n",
       "      <th></th>\n",
       "    </tr>\n",
       "  </thead>\n",
       "  <tbody>\n",
       "    <tr>\n",
       "      <th rowspan=\"6\" valign=\"top\">1</th>\n",
       "      <th rowspan=\"3\" valign=\"top\">female</th>\n",
       "      <th>middle-aged</th>\n",
       "      <td>0.980000</td>\n",
       "    </tr>\n",
       "    <tr>\n",
       "      <th>old</th>\n",
       "      <td>1.000000</td>\n",
       "    </tr>\n",
       "    <tr>\n",
       "      <th>young</th>\n",
       "      <td>0.928571</td>\n",
       "    </tr>\n",
       "    <tr>\n",
       "      <th rowspan=\"3\" valign=\"top\">male</th>\n",
       "      <th>middle-aged</th>\n",
       "      <td>0.441176</td>\n",
       "    </tr>\n",
       "    <tr>\n",
       "      <th>old</th>\n",
       "      <td>0.157895</td>\n",
       "    </tr>\n",
       "    <tr>\n",
       "      <th>young</th>\n",
       "      <td>0.500000</td>\n",
       "    </tr>\n",
       "    <tr>\n",
       "      <th rowspan=\"6\" valign=\"top\">2</th>\n",
       "      <th rowspan=\"3\" valign=\"top\">female</th>\n",
       "      <th>middle-aged</th>\n",
       "      <td>0.909091</td>\n",
       "    </tr>\n",
       "    <tr>\n",
       "      <th>old</th>\n",
       "      <td>0.000000</td>\n",
       "    </tr>\n",
       "    <tr>\n",
       "      <th>young</th>\n",
       "      <td>0.965517</td>\n",
       "    </tr>\n",
       "    <tr>\n",
       "      <th rowspan=\"3\" valign=\"top\">male</th>\n",
       "      <th>middle-aged</th>\n",
       "      <td>0.070175</td>\n",
       "    </tr>\n",
       "    <tr>\n",
       "      <th>old</th>\n",
       "      <td>0.166667</td>\n",
       "    </tr>\n",
       "    <tr>\n",
       "      <th>young</th>\n",
       "      <td>0.277778</td>\n",
       "    </tr>\n",
       "    <tr>\n",
       "      <th rowspan=\"6\" valign=\"top\">3</th>\n",
       "      <th rowspan=\"3\" valign=\"top\">female</th>\n",
       "      <th>middle-aged</th>\n",
       "      <td>0.361111</td>\n",
       "    </tr>\n",
       "    <tr>\n",
       "      <th>old</th>\n",
       "      <td>1.000000</td>\n",
       "    </tr>\n",
       "    <tr>\n",
       "      <th>young</th>\n",
       "      <td>0.507692</td>\n",
       "    </tr>\n",
       "    <tr>\n",
       "      <th rowspan=\"3\" valign=\"top\">male</th>\n",
       "      <th>middle-aged</th>\n",
       "      <td>0.152542</td>\n",
       "    </tr>\n",
       "    <tr>\n",
       "      <th>old</th>\n",
       "      <td>0.000000</td>\n",
       "    </tr>\n",
       "    <tr>\n",
       "      <th>young</th>\n",
       "      <td>0.155039</td>\n",
       "    </tr>\n",
       "  </tbody>\n",
       "</table>\n",
       "</div>"
      ],
      "text/plain": [
       "                           Survived\n",
       "Pclass Sex    age_group            \n",
       "1      female middle-aged  0.980000\n",
       "              old          1.000000\n",
       "              young        0.928571\n",
       "       male   middle-aged  0.441176\n",
       "              old          0.157895\n",
       "              young        0.500000\n",
       "2      female middle-aged  0.909091\n",
       "              old          0.000000\n",
       "              young        0.965517\n",
       "       male   middle-aged  0.070175\n",
       "              old          0.166667\n",
       "              young        0.277778\n",
       "3      female middle-aged  0.361111\n",
       "              old          1.000000\n",
       "              young        0.507692\n",
       "       male   middle-aged  0.152542\n",
       "              old          0.000000\n",
       "              young        0.155039"
      ]
     },
     "execution_count": 17,
     "metadata": {},
     "output_type": "execute_result"
    }
   ],
   "source": [
    "surv = pd.DataFrame(df.groupby([\"Pclass\",\"Sex\",\"age_group\"])[\"Survived\"].mean())\n",
    "surv"
   ]
  },
  {
   "cell_type": "markdown",
   "metadata": {},
   "source": [
    "3) infer the chance of survival of each of the new passengers using these averages."
   ]
  },
  {
   "cell_type": "code",
   "execution_count": 18,
   "metadata": {
    "collapsed": true
   },
   "outputs": [],
   "source": [
    "surv.reset_index(level=surv.index.names, inplace=True)"
   ]
  },
  {
   "cell_type": "code",
   "execution_count": 19,
   "metadata": {
    "collapsed": true
   },
   "outputs": [],
   "source": [
    "df2= pd.read_csv('titanic2.csv')"
   ]
  },
  {
   "cell_type": "code",
   "execution_count": 20,
   "metadata": {
    "collapsed": true
   },
   "outputs": [],
   "source": [
    "df2[\"age_group\"] = pd.cut(df[\"Age\"], bins, labels = label_names)"
   ]
  },
  {
   "cell_type": "code",
   "execution_count": 21,
   "metadata": {
    "collapsed": true
   },
   "outputs": [],
   "source": [
    "df2full = pd.merge(df2, surv, how = \"outer\")"
   ]
  },
  {
   "cell_type": "code",
   "execution_count": 22,
   "metadata": {
    "scrolled": true
   },
   "outputs": [
    {
     "data": {
      "text/html": [
       "<div>\n",
       "<style>\n",
       "    .dataframe thead tr:only-child th {\n",
       "        text-align: right;\n",
       "    }\n",
       "\n",
       "    .dataframe thead th {\n",
       "        text-align: left;\n",
       "    }\n",
       "\n",
       "    .dataframe tbody tr th {\n",
       "        vertical-align: top;\n",
       "    }\n",
       "</style>\n",
       "<table border=\"1\" class=\"dataframe\">\n",
       "  <thead>\n",
       "    <tr style=\"text-align: right;\">\n",
       "      <th></th>\n",
       "      <th>PassengerId</th>\n",
       "      <th>Pclass</th>\n",
       "      <th>Name</th>\n",
       "      <th>Sex</th>\n",
       "      <th>Age</th>\n",
       "      <th>SibSp</th>\n",
       "      <th>Parch</th>\n",
       "      <th>Ticket</th>\n",
       "      <th>Fare</th>\n",
       "      <th>Cabin</th>\n",
       "      <th>Embarked</th>\n",
       "      <th>age_group</th>\n",
       "      <th>Survived</th>\n",
       "    </tr>\n",
       "  </thead>\n",
       "  <tbody>\n",
       "    <tr>\n",
       "      <th>0</th>\n",
       "      <td>892</td>\n",
       "      <td>3</td>\n",
       "      <td>Kelly, Mr. James</td>\n",
       "      <td>male</td>\n",
       "      <td>34.5</td>\n",
       "      <td>0</td>\n",
       "      <td>0</td>\n",
       "      <td>330911</td>\n",
       "      <td>7.8292</td>\n",
       "      <td>NaN</td>\n",
       "      <td>Q</td>\n",
       "      <td>young</td>\n",
       "      <td>0.155039</td>\n",
       "    </tr>\n",
       "    <tr>\n",
       "      <th>1</th>\n",
       "      <td>901</td>\n",
       "      <td>3</td>\n",
       "      <td>Davies, Mr. John Samuel</td>\n",
       "      <td>male</td>\n",
       "      <td>21.0</td>\n",
       "      <td>2</td>\n",
       "      <td>0</td>\n",
       "      <td>A/4 48871</td>\n",
       "      <td>24.1500</td>\n",
       "      <td>NaN</td>\n",
       "      <td>S</td>\n",
       "      <td>young</td>\n",
       "      <td>0.155039</td>\n",
       "    </tr>\n",
       "    <tr>\n",
       "      <th>2</th>\n",
       "      <td>902</td>\n",
       "      <td>3</td>\n",
       "      <td>Ilieff, Mr. Ylio</td>\n",
       "      <td>male</td>\n",
       "      <td>NaN</td>\n",
       "      <td>0</td>\n",
       "      <td>0</td>\n",
       "      <td>349220</td>\n",
       "      <td>7.8958</td>\n",
       "      <td>NaN</td>\n",
       "      <td>S</td>\n",
       "      <td>young</td>\n",
       "      <td>0.155039</td>\n",
       "    </tr>\n",
       "    <tr>\n",
       "      <th>3</th>\n",
       "      <td>911</td>\n",
       "      <td>3</td>\n",
       "      <td>Assaf Khalil, Mrs. Mariana (Miriam\")\"</td>\n",
       "      <td>female</td>\n",
       "      <td>45.0</td>\n",
       "      <td>0</td>\n",
       "      <td>0</td>\n",
       "      <td>2696</td>\n",
       "      <td>7.2250</td>\n",
       "      <td>NaN</td>\n",
       "      <td>C</td>\n",
       "      <td>NaN</td>\n",
       "      <td>0.155039</td>\n",
       "    </tr>\n",
       "    <tr>\n",
       "      <th>4</th>\n",
       "      <td>919</td>\n",
       "      <td>3</td>\n",
       "      <td>Daher, Mr. Shedid</td>\n",
       "      <td>male</td>\n",
       "      <td>22.5</td>\n",
       "      <td>0</td>\n",
       "      <td>0</td>\n",
       "      <td>2698</td>\n",
       "      <td>7.2250</td>\n",
       "      <td>NaN</td>\n",
       "      <td>C</td>\n",
       "      <td>young</td>\n",
       "      <td>0.155039</td>\n",
       "    </tr>\n",
       "  </tbody>\n",
       "</table>\n",
       "</div>"
      ],
      "text/plain": [
       "   PassengerId  Pclass                                   Name     Sex   Age  \\\n",
       "0          892       3                       Kelly, Mr. James    male  34.5   \n",
       "1          901       3                Davies, Mr. John Samuel    male  21.0   \n",
       "2          902       3                       Ilieff, Mr. Ylio    male   NaN   \n",
       "3          911       3  Assaf Khalil, Mrs. Mariana (Miriam\")\"  female  45.0   \n",
       "4          919       3                      Daher, Mr. Shedid    male  22.5   \n",
       "\n",
       "   SibSp  Parch     Ticket     Fare Cabin Embarked age_group  Survived  \n",
       "0      0      0     330911   7.8292   NaN        Q     young  0.155039  \n",
       "1      2      0  A/4 48871  24.1500   NaN        S     young  0.155039  \n",
       "2      0      0     349220   7.8958   NaN        S     young  0.155039  \n",
       "3      0      0       2696   7.2250   NaN        C       NaN  0.155039  \n",
       "4      0      0       2698   7.2250   NaN        C     young  0.155039  "
      ]
     },
     "execution_count": 22,
     "metadata": {},
     "output_type": "execute_result"
    }
   ],
   "source": [
    "df2full.head()"
   ]
  },
  {
   "cell_type": "markdown",
   "metadata": {},
   "source": [
    "4) plot a histogram of the estimated survivial chances for the new passengers"
   ]
  },
  {
   "cell_type": "code",
   "execution_count": 43,
   "metadata": {},
   "outputs": [
    {
     "data": {
      "text/plain": [
       "[0.0, 0.1, 0.2, 0.3, 0.4, 0.5, 0.6, 0.7, 0.8, 0.9, 1.0]"
      ]
     },
     "execution_count": 43,
     "metadata": {},
     "output_type": "execute_result"
    }
   ],
   "source": [
    "tix = [x / 10 for x in range(0,11)]\n",
    "tix"
   ]
  },
  {
   "cell_type": "code",
   "execution_count": 42,
   "metadata": {},
   "outputs": [
    {
     "data": {
      "image/png": "[encoded data removed]",
      "text/plain": [
       "<matplotlib.figure.Figure at 0x1f1ee78d4a8>"
      ]
     },
     "metadata": {},
     "output_type": "display_data"
    }
   ],
   "source": [
    "ax=df2full.plot(kind='hist',y='Survived', label = \"Number of people per survival chances\")\n",
    "ax.set_title('Survival chances of new passengers');\n",
    "ax.set_xlabel(\"Survival porbalities\")\n",
    "ax.set_xticks(tix)\n",
    "plt.show()"
   ]
  },
  {
   "cell_type": "markdown",
   "metadata": {},
   "source": [
    "## Class 10\n",
    "Using the Divvy Bike data...\n",
    "\n",
    "1) Write a function that rounds each start time to the nearest half hour and add such columns to our dataframe as starthalfhour and endhalfhour.\n",
    "\n",
    "2) Use the datetime library's .dayofweek method to add the day of the week (i.e. Monday, Tuesday,...) to the dataframe for each trip.\n",
    "\n",
    "3) Groupby day of the week and hours and count the number of trips. Use the unstack method on the grouped frame and plot the result.\n",
    "\n",
    "4) Investigate the relationship between station capacity and traffic. Which two stations would you expand if you had the budget? \n",
    "\n",
    "5) Which stations are sources and which stations are sinks? i.e. which stations have much more departures than arrivals, and vice versa. Replot the geographic locations of the stations and using color or size visualize which stations are sources and sinks. Repeat the exercise for only weekday and only weekend trips. Do you see a difference?"
   ]
  },
  {
   "cell_type": "markdown",
   "metadata": {},
   "source": [
    "## Class 10\n",
    "1) Write a function that rounds each start time to the nearest half hour and add such columns to our dataframe as starthalfhour and endhalfhour."
   ]
  },
  {
   "cell_type": "code",
   "execution_count": 113,
   "metadata": {
    "scrolled": true
   },
   "outputs": [
    {
     "name": "stderr",
     "output_type": "stream",
     "text": [
      "C:\\Users\\peter\\Anaconda3\\lib\\site-packages\\IPython\\core\\interactiveshell.py:2717: DtypeWarning: Columns (10) have mixed types. Specify dtype option on import or set low_memory=False.\n",
      "  interactivity=interactivity, compiler=compiler, result=result)\n"
     ]
    }
   ],
   "source": [
    "trips=pd.read_csv('divvy_trips_august_2013.csv')"
   ]
  },
  {
   "cell_type": "code",
   "execution_count": 114,
   "metadata": {
    "collapsed": true
   },
   "outputs": [],
   "source": [
    "trips.starttime= pd.to_datetime(trips.starttime,format=\"%Y-%m-%d %H:%M\")\n",
    "trips.stoptime= pd.to_datetime(trips.stoptime,format=\"%m/%d/%Y %H:%M\")"
   ]
  },
  {
   "cell_type": "code",
   "execution_count": 115,
   "metadata": {
    "collapsed": true
   },
   "outputs": [],
   "source": [
    "from datetime import timedelta\n",
    "def round_halfhour(dt, mins=30):\n",
    "    \"\"\"\n",
    "    Rounds a datetime object to its nearest hour (by default).\n",
    "    (e.g. 2014-02-01 10:45:13 becomes 2014-02-01 11:00:00)\n",
    "    \"\"\"\n",
    "    dt += timedelta(minutes=mins/2.)\n",
    "    dt -= timedelta(minutes=dt.minute % mins, seconds=dt.second)\n",
    "    return dt"
   ]
  },
  {
   "cell_type": "code",
   "execution_count": 116,
   "metadata": {
    "collapsed": true
   },
   "outputs": [],
   "source": [
    "trips['starthalfhour'] = trips.starttime.apply(round_halfhour)\n",
    "trips['stophalfhour'] = trips.stoptime.apply(round_halfhour)"
   ]
  },
  {
   "cell_type": "code",
   "execution_count": 65,
   "metadata": {},
   "outputs": [
    {
     "data": {
      "text/html": [
       "<div>\n",
       "<style>\n",
       "    .dataframe thead tr:only-child th {\n",
       "        text-align: right;\n",
       "    }\n",
       "\n",
       "    .dataframe thead th {\n",
       "        text-align: left;\n",
       "    }\n",
       "\n",
       "    .dataframe tbody tr th {\n",
       "        vertical-align: top;\n",
       "    }\n",
       "</style>\n",
       "<table border=\"1\" class=\"dataframe\">\n",
       "  <thead>\n",
       "    <tr style=\"text-align: right;\">\n",
       "      <th></th>\n",
       "      <th>starttime</th>\n",
       "      <th>starthalfhour</th>\n",
       "      <th>stoptime</th>\n",
       "      <th>stophalfhour</th>\n",
       "    </tr>\n",
       "  </thead>\n",
       "  <tbody>\n",
       "    <tr>\n",
       "      <th>0</th>\n",
       "      <td>2013-08-01 00:13:00</td>\n",
       "      <td>2013-08-01 00:00:00</td>\n",
       "      <td>2013-08-01 00:28:00</td>\n",
       "      <td>2013-08-01 00:30:00</td>\n",
       "    </tr>\n",
       "    <tr>\n",
       "      <th>1</th>\n",
       "      <td>2013-08-01 00:28:00</td>\n",
       "      <td>2013-08-01 00:30:00</td>\n",
       "      <td>2013-08-01 00:41:00</td>\n",
       "      <td>2013-08-01 00:30:00</td>\n",
       "    </tr>\n",
       "    <tr>\n",
       "      <th>2</th>\n",
       "      <td>2013-08-01 00:57:00</td>\n",
       "      <td>2013-08-01 01:00:00</td>\n",
       "      <td>2013-08-01 03:42:00</td>\n",
       "      <td>2013-08-01 03:30:00</td>\n",
       "    </tr>\n",
       "    <tr>\n",
       "      <th>3</th>\n",
       "      <td>2013-08-01 00:57:00</td>\n",
       "      <td>2013-08-01 01:00:00</td>\n",
       "      <td>2013-08-01 03:43:00</td>\n",
       "      <td>2013-08-01 03:30:00</td>\n",
       "    </tr>\n",
       "    <tr>\n",
       "      <th>4</th>\n",
       "      <td>2013-08-01 00:58:00</td>\n",
       "      <td>2013-08-01 01:00:00</td>\n",
       "      <td>2013-08-01 02:32:00</td>\n",
       "      <td>2013-08-01 02:30:00</td>\n",
       "    </tr>\n",
       "    <tr>\n",
       "      <th>5</th>\n",
       "      <td>2013-08-01 00:58:00</td>\n",
       "      <td>2013-08-01 01:00:00</td>\n",
       "      <td>2013-08-01 02:32:00</td>\n",
       "      <td>2013-08-01 02:30:00</td>\n",
       "    </tr>\n",
       "    <tr>\n",
       "      <th>6</th>\n",
       "      <td>2013-08-01 01:22:00</td>\n",
       "      <td>2013-08-01 01:30:00</td>\n",
       "      <td>2013-08-01 01:30:00</td>\n",
       "      <td>2013-08-01 01:30:00</td>\n",
       "    </tr>\n",
       "    <tr>\n",
       "      <th>7</th>\n",
       "      <td>2013-08-01 01:25:00</td>\n",
       "      <td>2013-08-01 01:30:00</td>\n",
       "      <td>2013-08-01 01:44:00</td>\n",
       "      <td>2013-08-01 01:30:00</td>\n",
       "    </tr>\n",
       "    <tr>\n",
       "      <th>8</th>\n",
       "      <td>2013-08-01 01:25:00</td>\n",
       "      <td>2013-08-01 01:30:00</td>\n",
       "      <td>2013-08-01 01:44:00</td>\n",
       "      <td>2013-08-01 01:30:00</td>\n",
       "    </tr>\n",
       "    <tr>\n",
       "      <th>9</th>\n",
       "      <td>2013-08-01 01:28:00</td>\n",
       "      <td>2013-08-01 01:30:00</td>\n",
       "      <td>2013-08-01 01:44:00</td>\n",
       "      <td>2013-08-01 01:30:00</td>\n",
       "    </tr>\n",
       "    <tr>\n",
       "      <th>10</th>\n",
       "      <td>2013-08-01 01:43:00</td>\n",
       "      <td>2013-08-01 01:30:00</td>\n",
       "      <td>2013-08-01 01:56:00</td>\n",
       "      <td>2013-08-01 02:00:00</td>\n",
       "    </tr>\n",
       "    <tr>\n",
       "      <th>11</th>\n",
       "      <td>2013-08-01 02:07:00</td>\n",
       "      <td>2013-08-01 02:00:00</td>\n",
       "      <td>2013-08-01 02:24:00</td>\n",
       "      <td>2013-08-01 02:30:00</td>\n",
       "    </tr>\n",
       "    <tr>\n",
       "      <th>12</th>\n",
       "      <td>2013-08-01 02:13:00</td>\n",
       "      <td>2013-08-01 02:00:00</td>\n",
       "      <td>2013-08-01 02:34:00</td>\n",
       "      <td>2013-08-01 02:30:00</td>\n",
       "    </tr>\n",
       "    <tr>\n",
       "      <th>13</th>\n",
       "      <td>2013-08-01 02:41:00</td>\n",
       "      <td>2013-08-01 02:30:00</td>\n",
       "      <td>2013-08-01 02:49:00</td>\n",
       "      <td>2013-08-01 03:00:00</td>\n",
       "    </tr>\n",
       "    <tr>\n",
       "      <th>14</th>\n",
       "      <td>2013-08-01 03:35:00</td>\n",
       "      <td>2013-08-01 03:30:00</td>\n",
       "      <td>2013-08-01 04:14:00</td>\n",
       "      <td>2013-08-01 04:00:00</td>\n",
       "    </tr>\n",
       "    <tr>\n",
       "      <th>15</th>\n",
       "      <td>2013-08-01 03:36:00</td>\n",
       "      <td>2013-08-01 03:30:00</td>\n",
       "      <td>2013-08-01 04:14:00</td>\n",
       "      <td>2013-08-01 04:00:00</td>\n",
       "    </tr>\n",
       "    <tr>\n",
       "      <th>16</th>\n",
       "      <td>2013-08-01 03:43:00</td>\n",
       "      <td>2013-08-01 03:30:00</td>\n",
       "      <td>2013-08-01 04:12:00</td>\n",
       "      <td>2013-08-01 04:00:00</td>\n",
       "    </tr>\n",
       "    <tr>\n",
       "      <th>17</th>\n",
       "      <td>2013-08-01 03:42:00</td>\n",
       "      <td>2013-08-01 03:30:00</td>\n",
       "      <td>2013-08-01 04:12:00</td>\n",
       "      <td>2013-08-01 04:00:00</td>\n",
       "    </tr>\n",
       "    <tr>\n",
       "      <th>18</th>\n",
       "      <td>2013-08-01 03:45:00</td>\n",
       "      <td>2013-08-01 04:00:00</td>\n",
       "      <td>2013-08-01 04:12:00</td>\n",
       "      <td>2013-08-01 04:00:00</td>\n",
       "    </tr>\n",
       "    <tr>\n",
       "      <th>19</th>\n",
       "      <td>2013-08-01 03:49:00</td>\n",
       "      <td>2013-08-01 04:00:00</td>\n",
       "      <td>2013-08-01 04:02:00</td>\n",
       "      <td>2013-08-01 04:00:00</td>\n",
       "    </tr>\n",
       "  </tbody>\n",
       "</table>\n",
       "</div>"
      ],
      "text/plain": [
       "             starttime       starthalfhour            stoptime  \\\n",
       "0  2013-08-01 00:13:00 2013-08-01 00:00:00 2013-08-01 00:28:00   \n",
       "1  2013-08-01 00:28:00 2013-08-01 00:30:00 2013-08-01 00:41:00   \n",
       "2  2013-08-01 00:57:00 2013-08-01 01:00:00 2013-08-01 03:42:00   \n",
       "3  2013-08-01 00:57:00 2013-08-01 01:00:00 2013-08-01 03:43:00   \n",
       "4  2013-08-01 00:58:00 2013-08-01 01:00:00 2013-08-01 02:32:00   \n",
       "5  2013-08-01 00:58:00 2013-08-01 01:00:00 2013-08-01 02:32:00   \n",
       "6  2013-08-01 01:22:00 2013-08-01 01:30:00 2013-08-01 01:30:00   \n",
       "7  2013-08-01 01:25:00 2013-08-01 01:30:00 2013-08-01 01:44:00   \n",
       "8  2013-08-01 01:25:00 2013-08-01 01:30:00 2013-08-01 01:44:00   \n",
       "9  2013-08-01 01:28:00 2013-08-01 01:30:00 2013-08-01 01:44:00   \n",
       "10 2013-08-01 01:43:00 2013-08-01 01:30:00 2013-08-01 01:56:00   \n",
       "11 2013-08-01 02:07:00 2013-08-01 02:00:00 2013-08-01 02:24:00   \n",
       "12 2013-08-01 02:13:00 2013-08-01 02:00:00 2013-08-01 02:34:00   \n",
       "13 2013-08-01 02:41:00 2013-08-01 02:30:00 2013-08-01 02:49:00   \n",
       "14 2013-08-01 03:35:00 2013-08-01 03:30:00 2013-08-01 04:14:00   \n",
       "15 2013-08-01 03:36:00 2013-08-01 03:30:00 2013-08-01 04:14:00   \n",
       "16 2013-08-01 03:43:00 2013-08-01 03:30:00 2013-08-01 04:12:00   \n",
       "17 2013-08-01 03:42:00 2013-08-01 03:30:00 2013-08-01 04:12:00   \n",
       "18 2013-08-01 03:45:00 2013-08-01 04:00:00 2013-08-01 04:12:00   \n",
       "19 2013-08-01 03:49:00 2013-08-01 04:00:00 2013-08-01 04:02:00   \n",
       "\n",
       "          stophalfhour  \n",
       "0  2013-08-01 00:30:00  \n",
       "1  2013-08-01 00:30:00  \n",
       "2  2013-08-01 03:30:00  \n",
       "3  2013-08-01 03:30:00  \n",
       "4  2013-08-01 02:30:00  \n",
       "5  2013-08-01 02:30:00  \n",
       "6  2013-08-01 01:30:00  \n",
       "7  2013-08-01 01:30:00  \n",
       "8  2013-08-01 01:30:00  \n",
       "9  2013-08-01 01:30:00  \n",
       "10 2013-08-01 02:00:00  \n",
       "11 2013-08-01 02:30:00  \n",
       "12 2013-08-01 02:30:00  \n",
       "13 2013-08-01 03:00:00  \n",
       "14 2013-08-01 04:00:00  \n",
       "15 2013-08-01 04:00:00  \n",
       "16 2013-08-01 04:00:00  \n",
       "17 2013-08-01 04:00:00  \n",
       "18 2013-08-01 04:00:00  \n",
       "19 2013-08-01 04:00:00  "
      ]
     },
     "execution_count": 65,
     "metadata": {},
     "output_type": "execute_result"
    }
   ],
   "source": [
    "trips[[\"starttime\", \"starthalfhour\", \"stoptime\", \"stophalfhour\"]].head(20)"
   ]
  },
  {
   "cell_type": "markdown",
   "metadata": {},
   "source": [
    "2) Use the datetime library's .dayofweek method to add the day of the week (i.e. Monday, Tuesday,...) to the dataframe for each trip."
   ]
  },
  {
   "cell_type": "code",
   "execution_count": 117,
   "metadata": {},
   "outputs": [
    {
     "data": {
      "text/html": [
       "<div>\n",
       "<style>\n",
       "    .dataframe thead tr:only-child th {\n",
       "        text-align: right;\n",
       "    }\n",
       "\n",
       "    .dataframe thead th {\n",
       "        text-align: left;\n",
       "    }\n",
       "\n",
       "    .dataframe tbody tr th {\n",
       "        vertical-align: top;\n",
       "    }\n",
       "</style>\n",
       "<table border=\"1\" class=\"dataframe\">\n",
       "  <thead>\n",
       "    <tr style=\"text-align: right;\">\n",
       "      <th></th>\n",
       "      <th>trip_id</th>\n",
       "      <th>starttime</th>\n",
       "      <th>stoptime</th>\n",
       "      <th>bikeid</th>\n",
       "      <th>tripduration</th>\n",
       "      <th>from_station_id</th>\n",
       "      <th>from_station_name</th>\n",
       "      <th>to_station_id</th>\n",
       "      <th>to_station_name</th>\n",
       "      <th>usertype</th>\n",
       "      <th>gender</th>\n",
       "      <th>birthyear</th>\n",
       "      <th>starthalfhour</th>\n",
       "      <th>stophalfhour</th>\n",
       "      <th>day_of_the_week</th>\n",
       "    </tr>\n",
       "  </thead>\n",
       "  <tbody>\n",
       "    <tr>\n",
       "      <th>0</th>\n",
       "      <td>134677</td>\n",
       "      <td>2013-08-01 00:13:00</td>\n",
       "      <td>2013-08-01 00:28:00</td>\n",
       "      <td>135</td>\n",
       "      <td>864</td>\n",
       "      <td>42.0</td>\n",
       "      <td>Michigan Ave &amp; Oak St</td>\n",
       "      <td>44.0</td>\n",
       "      <td>Ogden Ave &amp; Chicago Ave</td>\n",
       "      <td>Customer</td>\n",
       "      <td>NaN</td>\n",
       "      <td>NaN</td>\n",
       "      <td>2013-08-01 00:00:00</td>\n",
       "      <td>2013-08-01 00:30:00</td>\n",
       "      <td>3</td>\n",
       "    </tr>\n",
       "    <tr>\n",
       "      <th>1</th>\n",
       "      <td>134679</td>\n",
       "      <td>2013-08-01 00:28:00</td>\n",
       "      <td>2013-08-01 00:41:00</td>\n",
       "      <td>135</td>\n",
       "      <td>767</td>\n",
       "      <td>44.0</td>\n",
       "      <td>Ogden Ave &amp; Chicago Ave</td>\n",
       "      <td>NaN</td>\n",
       "      <td>Congress Pkwy &amp; Ogden Ave</td>\n",
       "      <td>Customer</td>\n",
       "      <td>NaN</td>\n",
       "      <td>NaN</td>\n",
       "      <td>2013-08-01 00:30:00</td>\n",
       "      <td>2013-08-01 00:30:00</td>\n",
       "      <td>3</td>\n",
       "    </tr>\n",
       "    <tr>\n",
       "      <th>2</th>\n",
       "      <td>134682</td>\n",
       "      <td>2013-08-01 00:57:00</td>\n",
       "      <td>2013-08-01 03:42:00</td>\n",
       "      <td>183</td>\n",
       "      <td>9920</td>\n",
       "      <td>337.0</td>\n",
       "      <td>Lake Shore Dr &amp; Ohio St</td>\n",
       "      <td>43.0</td>\n",
       "      <td>Michigan Ave &amp; Lake St</td>\n",
       "      <td>Customer</td>\n",
       "      <td>NaN</td>\n",
       "      <td>NaN</td>\n",
       "      <td>2013-08-01 01:00:00</td>\n",
       "      <td>2013-08-01 03:30:00</td>\n",
       "      <td>3</td>\n",
       "    </tr>\n",
       "    <tr>\n",
       "      <th>3</th>\n",
       "      <td>134683</td>\n",
       "      <td>2013-08-01 00:57:00</td>\n",
       "      <td>2013-08-01 03:43:00</td>\n",
       "      <td>512</td>\n",
       "      <td>9931</td>\n",
       "      <td>337.0</td>\n",
       "      <td>Lake Shore Dr &amp; Ohio St</td>\n",
       "      <td>309.0</td>\n",
       "      <td>Indiana Ave &amp; Roosevelt Rd</td>\n",
       "      <td>Customer</td>\n",
       "      <td>NaN</td>\n",
       "      <td>NaN</td>\n",
       "      <td>2013-08-01 01:00:00</td>\n",
       "      <td>2013-08-01 03:30:00</td>\n",
       "      <td>3</td>\n",
       "    </tr>\n",
       "    <tr>\n",
       "      <th>4</th>\n",
       "      <td>134684</td>\n",
       "      <td>2013-08-01 00:58:00</td>\n",
       "      <td>2013-08-01 02:32:00</td>\n",
       "      <td>656</td>\n",
       "      <td>5678</td>\n",
       "      <td>68.0</td>\n",
       "      <td>Western Ave &amp; Winnebago Ave</td>\n",
       "      <td>68.0</td>\n",
       "      <td>Western Ave &amp; Winnebago Ave</td>\n",
       "      <td>Customer</td>\n",
       "      <td>NaN</td>\n",
       "      <td>NaN</td>\n",
       "      <td>2013-08-01 01:00:00</td>\n",
       "      <td>2013-08-01 02:30:00</td>\n",
       "      <td>3</td>\n",
       "    </tr>\n",
       "  </tbody>\n",
       "</table>\n",
       "</div>"
      ],
      "text/plain": [
       "   trip_id           starttime            stoptime  bikeid  tripduration  \\\n",
       "0   134677 2013-08-01 00:13:00 2013-08-01 00:28:00     135           864   \n",
       "1   134679 2013-08-01 00:28:00 2013-08-01 00:41:00     135           767   \n",
       "2   134682 2013-08-01 00:57:00 2013-08-01 03:42:00     183          9920   \n",
       "3   134683 2013-08-01 00:57:00 2013-08-01 03:43:00     512          9931   \n",
       "4   134684 2013-08-01 00:58:00 2013-08-01 02:32:00     656          5678   \n",
       "\n",
       "   from_station_id            from_station_name  to_station_id  \\\n",
       "0             42.0        Michigan Ave & Oak St           44.0   \n",
       "1             44.0      Ogden Ave & Chicago Ave            NaN   \n",
       "2            337.0      Lake Shore Dr & Ohio St           43.0   \n",
       "3            337.0      Lake Shore Dr & Ohio St          309.0   \n",
       "4             68.0  Western Ave & Winnebago Ave           68.0   \n",
       "\n",
       "               to_station_name  usertype gender  birthyear  \\\n",
       "0      Ogden Ave & Chicago Ave  Customer    NaN        NaN   \n",
       "1    Congress Pkwy & Ogden Ave  Customer    NaN        NaN   \n",
       "2       Michigan Ave & Lake St  Customer    NaN        NaN   \n",
       "3   Indiana Ave & Roosevelt Rd  Customer    NaN        NaN   \n",
       "4  Western Ave & Winnebago Ave  Customer    NaN        NaN   \n",
       "\n",
       "        starthalfhour        stophalfhour  day_of_the_week  \n",
       "0 2013-08-01 00:00:00 2013-08-01 00:30:00                3  \n",
       "1 2013-08-01 00:30:00 2013-08-01 00:30:00                3  \n",
       "2 2013-08-01 01:00:00 2013-08-01 03:30:00                3  \n",
       "3 2013-08-01 01:00:00 2013-08-01 03:30:00                3  \n",
       "4 2013-08-01 01:00:00 2013-08-01 02:30:00                3  "
      ]
     },
     "execution_count": 117,
     "metadata": {},
     "output_type": "execute_result"
    }
   ],
   "source": [
    "trips[\"day_of_the_week\"] = trips.starttime.dt.dayofweek\n",
    "trips.head(5)"
   ]
  },
  {
   "cell_type": "markdown",
   "metadata": {},
   "source": [
    "3) Groupby day of the week and hours and count the number of trips. Use the unstack method on the grouped frame and plot the result."
   ]
  },
  {
   "cell_type": "code",
   "execution_count": 76,
   "metadata": {
    "collapsed": true
   },
   "outputs": [],
   "source": [
    "# As I see it, this is one of the examples for which the solution has already been provided.\n",
    "\n",
    "weekdays = trips['starttime'].apply(lambda d: d.dayofweek)\n",
    "hours = trips['starttime'].apply(lambda d: d.hour)\n",
    "by_weekday_hour = trips.groupby([weekdays, hours])['trip_id'].count()\n",
    "by_weekday_hour.index.names = ['weekday', 'hour'] # rename MultiIndex"
   ]
  },
  {
   "cell_type": "code",
   "execution_count": 77,
   "metadata": {},
   "outputs": [
    {
     "data": {
      "image/png": "[encoded data removed]",
      "text/plain": [
       "<matplotlib.figure.Figure at 0x1f1ed5cb390>"
      ]
     },
     "metadata": {},
     "output_type": "display_data"
    }
   ],
   "source": [
    "by_weekday_hour.unstack(0).plot(figsize=(16,8))\n",
    "plt.title('Trips by weekday hour')\n",
    "plt.ylabel('# of trips started')\n",
    "plt.xlabel('Hour of day')\n",
    "plt.xticks(range(24))\n",
    "plt.xlim(0, 23);\n",
    "plt.show()"
   ]
  },
  {
   "cell_type": "markdown",
   "metadata": {},
   "source": [
    "4) Investigate the relationship between station capacity and traffic. Which two stations would you expand if you had the budget?"
   ]
  },
  {
   "cell_type": "code",
   "execution_count": 118,
   "metadata": {
    "collapsed": true
   },
   "outputs": [],
   "source": [
    "stations = pd.read_csv('Divvy_Stations_2013.csv')"
   ]
  },
  {
   "cell_type": "code",
   "execution_count": 119,
   "metadata": {},
   "outputs": [
    {
     "data": {
      "text/html": [
       "<div>\n",
       "<style>\n",
       "    .dataframe thead tr:only-child th {\n",
       "        text-align: right;\n",
       "    }\n",
       "\n",
       "    .dataframe thead th {\n",
       "        text-align: left;\n",
       "    }\n",
       "\n",
       "    .dataframe tbody tr th {\n",
       "        vertical-align: top;\n",
       "    }\n",
       "</style>\n",
       "<table border=\"1\" class=\"dataframe\">\n",
       "  <thead>\n",
       "    <tr style=\"text-align: right;\">\n",
       "      <th></th>\n",
       "      <th>name</th>\n",
       "      <th>latitude</th>\n",
       "      <th>longitude</th>\n",
       "      <th>dpcapacity</th>\n",
       "    </tr>\n",
       "  </thead>\n",
       "  <tbody>\n",
       "    <tr>\n",
       "      <th>0</th>\n",
       "      <td>State St &amp; Harrison St</td>\n",
       "      <td>41.873958</td>\n",
       "      <td>-87.627739</td>\n",
       "      <td>19</td>\n",
       "    </tr>\n",
       "    <tr>\n",
       "      <th>1</th>\n",
       "      <td>Wilton Ave &amp; Diversey Pkwy</td>\n",
       "      <td>41.932500</td>\n",
       "      <td>-87.652681</td>\n",
       "      <td>19</td>\n",
       "    </tr>\n",
       "    <tr>\n",
       "      <th>2</th>\n",
       "      <td>Morgan St &amp; 18th St</td>\n",
       "      <td>41.858086</td>\n",
       "      <td>-87.651073</td>\n",
       "      <td>15</td>\n",
       "    </tr>\n",
       "    <tr>\n",
       "      <th>3</th>\n",
       "      <td>Racine Ave &amp; 18th St</td>\n",
       "      <td>41.858181</td>\n",
       "      <td>-87.656487</td>\n",
       "      <td>15</td>\n",
       "    </tr>\n",
       "    <tr>\n",
       "      <th>4</th>\n",
       "      <td>Wood St &amp; North Ave</td>\n",
       "      <td>41.910329</td>\n",
       "      <td>-87.672516</td>\n",
       "      <td>15</td>\n",
       "    </tr>\n",
       "  </tbody>\n",
       "</table>\n",
       "</div>"
      ],
      "text/plain": [
       "                         name   latitude  longitude  dpcapacity\n",
       "0      State St & Harrison St  41.873958 -87.627739          19\n",
       "1  Wilton Ave & Diversey Pkwy  41.932500 -87.652681          19\n",
       "2         Morgan St & 18th St  41.858086 -87.651073          15\n",
       "3        Racine Ave & 18th St  41.858181 -87.656487          15\n",
       "4         Wood St & North Ave  41.910329 -87.672516          15"
      ]
     },
     "execution_count": 119,
     "metadata": {},
     "output_type": "execute_result"
    }
   ],
   "source": [
    "stations.head(5)"
   ]
  },
  {
   "cell_type": "code",
   "execution_count": 120,
   "metadata": {},
   "outputs": [
    {
     "data": {
      "text/html": [
       "<div>\n",
       "<style>\n",
       "    .dataframe thead tr:only-child th {\n",
       "        text-align: right;\n",
       "    }\n",
       "\n",
       "    .dataframe thead th {\n",
       "        text-align: left;\n",
       "    }\n",
       "\n",
       "    .dataframe tbody tr th {\n",
       "        vertical-align: top;\n",
       "    }\n",
       "</style>\n",
       "<table border=\"1\" class=\"dataframe\">\n",
       "  <thead>\n",
       "    <tr style=\"text-align: right;\">\n",
       "      <th></th>\n",
       "      <th>trip_id</th>\n",
       "      <th>starttime</th>\n",
       "      <th>stoptime</th>\n",
       "      <th>bikeid</th>\n",
       "      <th>tripduration</th>\n",
       "      <th>from_station_id</th>\n",
       "      <th>from_station_name</th>\n",
       "      <th>to_station_id</th>\n",
       "      <th>to_station_name</th>\n",
       "      <th>usertype</th>\n",
       "      <th>gender</th>\n",
       "      <th>birthyear</th>\n",
       "      <th>starthalfhour</th>\n",
       "      <th>stophalfhour</th>\n",
       "      <th>day_of_the_week</th>\n",
       "    </tr>\n",
       "  </thead>\n",
       "  <tbody>\n",
       "    <tr>\n",
       "      <th>0</th>\n",
       "      <td>134677</td>\n",
       "      <td>2013-08-01 00:13:00</td>\n",
       "      <td>2013-08-01 00:28:00</td>\n",
       "      <td>135</td>\n",
       "      <td>864</td>\n",
       "      <td>42.0</td>\n",
       "      <td>Michigan Ave &amp; Oak St</td>\n",
       "      <td>44.0</td>\n",
       "      <td>Ogden Ave &amp; Chicago Ave</td>\n",
       "      <td>Customer</td>\n",
       "      <td>NaN</td>\n",
       "      <td>NaN</td>\n",
       "      <td>2013-08-01 00:00:00</td>\n",
       "      <td>2013-08-01 00:30:00</td>\n",
       "      <td>3</td>\n",
       "    </tr>\n",
       "    <tr>\n",
       "      <th>1</th>\n",
       "      <td>134679</td>\n",
       "      <td>2013-08-01 00:28:00</td>\n",
       "      <td>2013-08-01 00:41:00</td>\n",
       "      <td>135</td>\n",
       "      <td>767</td>\n",
       "      <td>44.0</td>\n",
       "      <td>Ogden Ave &amp; Chicago Ave</td>\n",
       "      <td>NaN</td>\n",
       "      <td>Congress Pkwy &amp; Ogden Ave</td>\n",
       "      <td>Customer</td>\n",
       "      <td>NaN</td>\n",
       "      <td>NaN</td>\n",
       "      <td>2013-08-01 00:30:00</td>\n",
       "      <td>2013-08-01 00:30:00</td>\n",
       "      <td>3</td>\n",
       "    </tr>\n",
       "    <tr>\n",
       "      <th>2</th>\n",
       "      <td>134682</td>\n",
       "      <td>2013-08-01 00:57:00</td>\n",
       "      <td>2013-08-01 03:42:00</td>\n",
       "      <td>183</td>\n",
       "      <td>9920</td>\n",
       "      <td>337.0</td>\n",
       "      <td>Lake Shore Dr &amp; Ohio St</td>\n",
       "      <td>43.0</td>\n",
       "      <td>Michigan Ave &amp; Lake St</td>\n",
       "      <td>Customer</td>\n",
       "      <td>NaN</td>\n",
       "      <td>NaN</td>\n",
       "      <td>2013-08-01 01:00:00</td>\n",
       "      <td>2013-08-01 03:30:00</td>\n",
       "      <td>3</td>\n",
       "    </tr>\n",
       "    <tr>\n",
       "      <th>3</th>\n",
       "      <td>134683</td>\n",
       "      <td>2013-08-01 00:57:00</td>\n",
       "      <td>2013-08-01 03:43:00</td>\n",
       "      <td>512</td>\n",
       "      <td>9931</td>\n",
       "      <td>337.0</td>\n",
       "      <td>Lake Shore Dr &amp; Ohio St</td>\n",
       "      <td>309.0</td>\n",
       "      <td>Indiana Ave &amp; Roosevelt Rd</td>\n",
       "      <td>Customer</td>\n",
       "      <td>NaN</td>\n",
       "      <td>NaN</td>\n",
       "      <td>2013-08-01 01:00:00</td>\n",
       "      <td>2013-08-01 03:30:00</td>\n",
       "      <td>3</td>\n",
       "    </tr>\n",
       "    <tr>\n",
       "      <th>4</th>\n",
       "      <td>134684</td>\n",
       "      <td>2013-08-01 00:58:00</td>\n",
       "      <td>2013-08-01 02:32:00</td>\n",
       "      <td>656</td>\n",
       "      <td>5678</td>\n",
       "      <td>68.0</td>\n",
       "      <td>Western Ave &amp; Winnebago Ave</td>\n",
       "      <td>68.0</td>\n",
       "      <td>Western Ave &amp; Winnebago Ave</td>\n",
       "      <td>Customer</td>\n",
       "      <td>NaN</td>\n",
       "      <td>NaN</td>\n",
       "      <td>2013-08-01 01:00:00</td>\n",
       "      <td>2013-08-01 02:30:00</td>\n",
       "      <td>3</td>\n",
       "    </tr>\n",
       "  </tbody>\n",
       "</table>\n",
       "</div>"
      ],
      "text/plain": [
       "   trip_id           starttime            stoptime  bikeid  tripduration  \\\n",
       "0   134677 2013-08-01 00:13:00 2013-08-01 00:28:00     135           864   \n",
       "1   134679 2013-08-01 00:28:00 2013-08-01 00:41:00     135           767   \n",
       "2   134682 2013-08-01 00:57:00 2013-08-01 03:42:00     183          9920   \n",
       "3   134683 2013-08-01 00:57:00 2013-08-01 03:43:00     512          9931   \n",
       "4   134684 2013-08-01 00:58:00 2013-08-01 02:32:00     656          5678   \n",
       "\n",
       "   from_station_id            from_station_name  to_station_id  \\\n",
       "0             42.0        Michigan Ave & Oak St           44.0   \n",
       "1             44.0      Ogden Ave & Chicago Ave            NaN   \n",
       "2            337.0      Lake Shore Dr & Ohio St           43.0   \n",
       "3            337.0      Lake Shore Dr & Ohio St          309.0   \n",
       "4             68.0  Western Ave & Winnebago Ave           68.0   \n",
       "\n",
       "               to_station_name  usertype gender  birthyear  \\\n",
       "0      Ogden Ave & Chicago Ave  Customer    NaN        NaN   \n",
       "1    Congress Pkwy & Ogden Ave  Customer    NaN        NaN   \n",
       "2       Michigan Ave & Lake St  Customer    NaN        NaN   \n",
       "3   Indiana Ave & Roosevelt Rd  Customer    NaN        NaN   \n",
       "4  Western Ave & Winnebago Ave  Customer    NaN        NaN   \n",
       "\n",
       "        starthalfhour        stophalfhour  day_of_the_week  \n",
       "0 2013-08-01 00:00:00 2013-08-01 00:30:00                3  \n",
       "1 2013-08-01 00:30:00 2013-08-01 00:30:00                3  \n",
       "2 2013-08-01 01:00:00 2013-08-01 03:30:00                3  \n",
       "3 2013-08-01 01:00:00 2013-08-01 03:30:00                3  \n",
       "4 2013-08-01 01:00:00 2013-08-01 02:30:00                3  "
      ]
     },
     "execution_count": 120,
     "metadata": {},
     "output_type": "execute_result"
    }
   ],
   "source": [
    "trips.head()"
   ]
  },
  {
   "cell_type": "code",
   "execution_count": 121,
   "metadata": {},
   "outputs": [
    {
     "name": "stdout",
     "output_type": "stream",
     "text": [
      "Index(['trip_id', 'starttime', 'stoptime', 'bikeid', 'tripduration',\n",
      "       'from_station_id', 'from_station_name', 'to_station_id',\n",
      "       'to_station_name', 'usertype', 'gender', 'birthyear', 'starthalfhour',\n",
      "       'stophalfhour', 'day_of_the_week'],\n",
      "      dtype='object')\n",
      "Index(['name', 'latitude', 'longitude', 'dpcapacity'], dtype='object')\n"
     ]
    }
   ],
   "source": [
    "print(trips.columns)\n",
    "print(stations.columns)"
   ]
  },
  {
   "cell_type": "code",
   "execution_count": 122,
   "metadata": {
    "scrolled": true
   },
   "outputs": [],
   "source": [
    "trips = pd.merge(trips, stations, how='left', left_on='from_station_name', right_on='name')\n"
   ]
  },
  {
   "cell_type": "code",
   "execution_count": 123,
   "metadata": {
    "scrolled": true
   },
   "outputs": [
    {
     "data": {
      "text/plain": [
       "Index(['trip_id', 'starttime', 'stoptime', 'bikeid', 'tripduration',\n",
       "       'from_station_id', 'from_station_name', 'to_station_id',\n",
       "       'to_station_name', 'usertype', 'gender', 'birthyear', 'starthalfhour',\n",
       "       'stophalfhour', 'day_of_the_week', 'name', 'latitude', 'longitude',\n",
       "       'dpcapacity'],\n",
       "      dtype='object')"
      ]
     },
     "execution_count": 123,
     "metadata": {},
     "output_type": "execute_result"
    }
   ],
   "source": [
    "trips.columns"
   ]
  },
  {
   "cell_type": "code",
   "execution_count": 124,
   "metadata": {},
   "outputs": [
    {
     "data": {
      "text/html": [
       "<div>\n",
       "<style>\n",
       "    .dataframe thead tr:only-child th {\n",
       "        text-align: right;\n",
       "    }\n",
       "\n",
       "    .dataframe thead th {\n",
       "        text-align: left;\n",
       "    }\n",
       "\n",
       "    .dataframe tbody tr th {\n",
       "        vertical-align: top;\n",
       "    }\n",
       "</style>\n",
       "<table border=\"1\" class=\"dataframe\">\n",
       "  <thead>\n",
       "    <tr style=\"text-align: right;\">\n",
       "      <th></th>\n",
       "      <th>trips_started</th>\n",
       "      <th>capacity</th>\n",
       "    </tr>\n",
       "  </thead>\n",
       "  <tbody>\n",
       "    <tr>\n",
       "      <th>0</th>\n",
       "      <td>620054072</td>\n",
       "      <td>43</td>\n",
       "    </tr>\n",
       "    <tr>\n",
       "      <th>1</th>\n",
       "      <td>397856862</td>\n",
       "      <td>27</td>\n",
       "    </tr>\n",
       "    <tr>\n",
       "      <th>2</th>\n",
       "      <td>396592868</td>\n",
       "      <td>27</td>\n",
       "    </tr>\n",
       "    <tr>\n",
       "      <th>3</th>\n",
       "      <td>410948581</td>\n",
       "      <td>15</td>\n",
       "    </tr>\n",
       "    <tr>\n",
       "      <th>4</th>\n",
       "      <td>394753377</td>\n",
       "      <td>31</td>\n",
       "    </tr>\n",
       "  </tbody>\n",
       "</table>\n",
       "</div>"
      ],
      "text/plain": [
       "   trips_started  capacity\n",
       "0      620054072        43\n",
       "1      397856862        27\n",
       "2      396592868        27\n",
       "3      410948581        15\n",
       "4      394753377        31"
      ]
     },
     "execution_count": 124,
     "metadata": {},
     "output_type": "execute_result"
    }
   ],
   "source": [
    "caputil = trips.groupby([\"from_station_id\"]).agg({\"trip_id\": np.sum, \"dpcapacity\": np.mean})\n",
    "caputil = pd.DataFrame(caputil)\n",
    "caputil.reset_index(level=caputil.index.names, inplace=True)\n",
    "caputil = caputil.rename(columns={'trip_id': 'trips_started', 'dpcapacity': 'capacity'})\n",
    "caputil.head(5)"
   ]
  },
  {
   "cell_type": "code",
   "execution_count": 12,
   "metadata": {},
   "outputs": [
    {
     "data": {
      "image/png": "[encoded data removed]",
      "text/plain": [
       "<matplotlib.figure.Figure at 0x23bb468a080>"
      ]
     },
     "metadata": {},
     "output_type": "display_data"
    }
   ],
   "source": [
    "ax=caputil.plot.scatter(x = \"capacity\",y='trips_started')\n",
    "ax.set_title('Station capacities and trips started');\n",
    "ax.set_xlabel(\"Station capacity\")\n",
    "ax.set_ylabel(\"Number of trips\")\n",
    "plt.show()"
   ]
  },
  {
   "cell_type": "code",
   "execution_count": 13,
   "metadata": {
    "collapsed": true
   },
   "outputs": [],
   "source": [
    "caputil[\"tripspercap\"] = caputil[\"trips_started\"] / caputil[\"capacity\"]"
   ]
  },
  {
   "cell_type": "code",
   "execution_count": 14,
   "metadata": {
    "scrolled": true
   },
   "outputs": [
    {
     "data": {
      "text/html": [
       "<div>\n",
       "<style>\n",
       "    .dataframe thead tr:only-child th {\n",
       "        text-align: right;\n",
       "    }\n",
       "\n",
       "    .dataframe thead th {\n",
       "        text-align: left;\n",
       "    }\n",
       "\n",
       "    .dataframe tbody tr th {\n",
       "        vertical-align: top;\n",
       "    }\n",
       "</style>\n",
       "<table border=\"1\" class=\"dataframe\">\n",
       "  <thead>\n",
       "    <tr style=\"text-align: right;\">\n",
       "      <th></th>\n",
       "      <th>trips_started</th>\n",
       "      <th>capacity</th>\n",
       "      <th>tripspercap</th>\n",
       "    </tr>\n",
       "  </thead>\n",
       "  <tbody>\n",
       "    <tr>\n",
       "      <th>180</th>\n",
       "      <td>1211580292</td>\n",
       "      <td>11</td>\n",
       "      <td>1.101437e+08</td>\n",
       "    </tr>\n",
       "    <tr>\n",
       "      <th>33</th>\n",
       "      <td>1023355649</td>\n",
       "      <td>15</td>\n",
       "      <td>6.822371e+07</td>\n",
       "    </tr>\n",
       "    <tr>\n",
       "      <th>83</th>\n",
       "      <td>775969822</td>\n",
       "      <td>15</td>\n",
       "      <td>5.173132e+07</td>\n",
       "    </tr>\n",
       "    <tr>\n",
       "      <th>23</th>\n",
       "      <td>970199731</td>\n",
       "      <td>19</td>\n",
       "      <td>5.106314e+07</td>\n",
       "    </tr>\n",
       "    <tr>\n",
       "      <th>199</th>\n",
       "      <td>711718719</td>\n",
       "      <td>15</td>\n",
       "      <td>4.744791e+07</td>\n",
       "    </tr>\n",
       "    <tr>\n",
       "      <th>18</th>\n",
       "      <td>1576603099</td>\n",
       "      <td>35</td>\n",
       "      <td>4.504580e+07</td>\n",
       "    </tr>\n",
       "    <tr>\n",
       "      <th>32</th>\n",
       "      <td>517217731</td>\n",
       "      <td>15</td>\n",
       "      <td>3.448118e+07</td>\n",
       "    </tr>\n",
       "    <tr>\n",
       "      <th>6</th>\n",
       "      <td>1184471371</td>\n",
       "      <td>35</td>\n",
       "      <td>3.384204e+07</td>\n",
       "    </tr>\n",
       "    <tr>\n",
       "      <th>39</th>\n",
       "      <td>478095841</td>\n",
       "      <td>15</td>\n",
       "      <td>3.187306e+07</td>\n",
       "    </tr>\n",
       "    <tr>\n",
       "      <th>81</th>\n",
       "      <td>469102415</td>\n",
       "      <td>15</td>\n",
       "      <td>3.127349e+07</td>\n",
       "    </tr>\n",
       "    <tr>\n",
       "      <th>34</th>\n",
       "      <td>707973619</td>\n",
       "      <td>23</td>\n",
       "      <td>3.078146e+07</td>\n",
       "    </tr>\n",
       "    <tr>\n",
       "      <th>25</th>\n",
       "      <td>579942878</td>\n",
       "      <td>19</td>\n",
       "      <td>3.052331e+07</td>\n",
       "    </tr>\n",
       "    <tr>\n",
       "      <th>194</th>\n",
       "      <td>457803241</td>\n",
       "      <td>15</td>\n",
       "      <td>3.052022e+07</td>\n",
       "    </tr>\n",
       "    <tr>\n",
       "      <th>138</th>\n",
       "      <td>330896854</td>\n",
       "      <td>11</td>\n",
       "      <td>3.008153e+07</td>\n",
       "    </tr>\n",
       "    <tr>\n",
       "      <th>193</th>\n",
       "      <td>546207731</td>\n",
       "      <td>19</td>\n",
       "      <td>2.874778e+07</td>\n",
       "    </tr>\n",
       "    <tr>\n",
       "      <th>40</th>\n",
       "      <td>653004167</td>\n",
       "      <td>23</td>\n",
       "      <td>2.839149e+07</td>\n",
       "    </tr>\n",
       "    <tr>\n",
       "      <th>146</th>\n",
       "      <td>423249661</td>\n",
       "      <td>15</td>\n",
       "      <td>2.821664e+07</td>\n",
       "    </tr>\n",
       "    <tr>\n",
       "      <th>3</th>\n",
       "      <td>410948581</td>\n",
       "      <td>15</td>\n",
       "      <td>2.739657e+07</td>\n",
       "    </tr>\n",
       "    <tr>\n",
       "      <th>16</th>\n",
       "      <td>506795472</td>\n",
       "      <td>19</td>\n",
       "      <td>2.667345e+07</td>\n",
       "    </tr>\n",
       "    <tr>\n",
       "      <th>161</th>\n",
       "      <td>385152647</td>\n",
       "      <td>15</td>\n",
       "      <td>2.567684e+07</td>\n",
       "    </tr>\n",
       "    <tr>\n",
       "      <th>46</th>\n",
       "      <td>370107451</td>\n",
       "      <td>15</td>\n",
       "      <td>2.467383e+07</td>\n",
       "    </tr>\n",
       "    <tr>\n",
       "      <th>195</th>\n",
       "      <td>270385194</td>\n",
       "      <td>11</td>\n",
       "      <td>2.458047e+07</td>\n",
       "    </tr>\n",
       "    <tr>\n",
       "      <th>27</th>\n",
       "      <td>547933876</td>\n",
       "      <td>23</td>\n",
       "      <td>2.382321e+07</td>\n",
       "    </tr>\n",
       "    <tr>\n",
       "      <th>15</th>\n",
       "      <td>632278759</td>\n",
       "      <td>27</td>\n",
       "      <td>2.341773e+07</td>\n",
       "    </tr>\n",
       "    <tr>\n",
       "      <th>8</th>\n",
       "      <td>706331521</td>\n",
       "      <td>31</td>\n",
       "      <td>2.278489e+07</td>\n",
       "    </tr>\n",
       "    <tr>\n",
       "      <th>96</th>\n",
       "      <td>404313862</td>\n",
       "      <td>19</td>\n",
       "      <td>2.127968e+07</td>\n",
       "    </tr>\n",
       "    <tr>\n",
       "      <th>198</th>\n",
       "      <td>383166864</td>\n",
       "      <td>19</td>\n",
       "      <td>2.016668e+07</td>\n",
       "    </tr>\n",
       "    <tr>\n",
       "      <th>181</th>\n",
       "      <td>460253341</td>\n",
       "      <td>23</td>\n",
       "      <td>2.001101e+07</td>\n",
       "    </tr>\n",
       "    <tr>\n",
       "      <th>216</th>\n",
       "      <td>369593500</td>\n",
       "      <td>19</td>\n",
       "      <td>1.945229e+07</td>\n",
       "    </tr>\n",
       "    <tr>\n",
       "      <th>116</th>\n",
       "      <td>369196282</td>\n",
       "      <td>19</td>\n",
       "      <td>1.943138e+07</td>\n",
       "    </tr>\n",
       "    <tr>\n",
       "      <th>...</th>\n",
       "      <td>...</td>\n",
       "      <td>...</td>\n",
       "      <td>...</td>\n",
       "    </tr>\n",
       "    <tr>\n",
       "      <th>184</th>\n",
       "      <td>18200773</td>\n",
       "      <td>11</td>\n",
       "      <td>1.654616e+06</td>\n",
       "    </tr>\n",
       "    <tr>\n",
       "      <th>74</th>\n",
       "      <td>22915421</td>\n",
       "      <td>15</td>\n",
       "      <td>1.527695e+06</td>\n",
       "    </tr>\n",
       "    <tr>\n",
       "      <th>148</th>\n",
       "      <td>21202401</td>\n",
       "      <td>15</td>\n",
       "      <td>1.413493e+06</td>\n",
       "    </tr>\n",
       "    <tr>\n",
       "      <th>87</th>\n",
       "      <td>19883293</td>\n",
       "      <td>15</td>\n",
       "      <td>1.325553e+06</td>\n",
       "    </tr>\n",
       "    <tr>\n",
       "      <th>176</th>\n",
       "      <td>19031865</td>\n",
       "      <td>15</td>\n",
       "      <td>1.268791e+06</td>\n",
       "    </tr>\n",
       "    <tr>\n",
       "      <th>136</th>\n",
       "      <td>13085678</td>\n",
       "      <td>11</td>\n",
       "      <td>1.189607e+06</td>\n",
       "    </tr>\n",
       "    <tr>\n",
       "      <th>150</th>\n",
       "      <td>20864968</td>\n",
       "      <td>19</td>\n",
       "      <td>1.098156e+06</td>\n",
       "    </tr>\n",
       "    <tr>\n",
       "      <th>71</th>\n",
       "      <td>16202206</td>\n",
       "      <td>15</td>\n",
       "      <td>1.080147e+06</td>\n",
       "    </tr>\n",
       "    <tr>\n",
       "      <th>157</th>\n",
       "      <td>11874641</td>\n",
       "      <td>11</td>\n",
       "      <td>1.079513e+06</td>\n",
       "    </tr>\n",
       "    <tr>\n",
       "      <th>77</th>\n",
       "      <td>16037691</td>\n",
       "      <td>15</td>\n",
       "      <td>1.069179e+06</td>\n",
       "    </tr>\n",
       "    <tr>\n",
       "      <th>191</th>\n",
       "      <td>11273846</td>\n",
       "      <td>11</td>\n",
       "      <td>1.024895e+06</td>\n",
       "    </tr>\n",
       "    <tr>\n",
       "      <th>207</th>\n",
       "      <td>15215790</td>\n",
       "      <td>15</td>\n",
       "      <td>1.014386e+06</td>\n",
       "    </tr>\n",
       "    <tr>\n",
       "      <th>218</th>\n",
       "      <td>15050872</td>\n",
       "      <td>15</td>\n",
       "      <td>1.003391e+06</td>\n",
       "    </tr>\n",
       "    <tr>\n",
       "      <th>90</th>\n",
       "      <td>14757126</td>\n",
       "      <td>15</td>\n",
       "      <td>9.838084e+05</td>\n",
       "    </tr>\n",
       "    <tr>\n",
       "      <th>182</th>\n",
       "      <td>9844078</td>\n",
       "      <td>11</td>\n",
       "      <td>8.949162e+05</td>\n",
       "    </tr>\n",
       "    <tr>\n",
       "      <th>132</th>\n",
       "      <td>11445167</td>\n",
       "      <td>15</td>\n",
       "      <td>7.630111e+05</td>\n",
       "    </tr>\n",
       "    <tr>\n",
       "      <th>192</th>\n",
       "      <td>11315122</td>\n",
       "      <td>15</td>\n",
       "      <td>7.543415e+05</td>\n",
       "    </tr>\n",
       "    <tr>\n",
       "      <th>109</th>\n",
       "      <td>9813128</td>\n",
       "      <td>15</td>\n",
       "      <td>6.542085e+05</td>\n",
       "    </tr>\n",
       "    <tr>\n",
       "      <th>217</th>\n",
       "      <td>10632340</td>\n",
       "      <td>19</td>\n",
       "      <td>5.595968e+05</td>\n",
       "    </tr>\n",
       "    <tr>\n",
       "      <th>205</th>\n",
       "      <td>8195227</td>\n",
       "      <td>15</td>\n",
       "      <td>5.463485e+05</td>\n",
       "    </tr>\n",
       "    <tr>\n",
       "      <th>183</th>\n",
       "      <td>7587221</td>\n",
       "      <td>15</td>\n",
       "      <td>5.058147e+05</td>\n",
       "    </tr>\n",
       "    <tr>\n",
       "      <th>62</th>\n",
       "      <td>9116318</td>\n",
       "      <td>19</td>\n",
       "      <td>4.798062e+05</td>\n",
       "    </tr>\n",
       "    <tr>\n",
       "      <th>65</th>\n",
       "      <td>5927949</td>\n",
       "      <td>15</td>\n",
       "      <td>3.951966e+05</td>\n",
       "    </tr>\n",
       "    <tr>\n",
       "      <th>97</th>\n",
       "      <td>7494143</td>\n",
       "      <td>19</td>\n",
       "      <td>3.944286e+05</td>\n",
       "    </tr>\n",
       "    <tr>\n",
       "      <th>149</th>\n",
       "      <td>3664653</td>\n",
       "      <td>15</td>\n",
       "      <td>2.443102e+05</td>\n",
       "    </tr>\n",
       "    <tr>\n",
       "      <th>134</th>\n",
       "      <td>3406057</td>\n",
       "      <td>15</td>\n",
       "      <td>2.270705e+05</td>\n",
       "    </tr>\n",
       "    <tr>\n",
       "      <th>173</th>\n",
       "      <td>2434389</td>\n",
       "      <td>15</td>\n",
       "      <td>1.622926e+05</td>\n",
       "    </tr>\n",
       "    <tr>\n",
       "      <th>43</th>\n",
       "      <td>1421065</td>\n",
       "      <td>19</td>\n",
       "      <td>7.479289e+04</td>\n",
       "    </tr>\n",
       "    <tr>\n",
       "      <th>158</th>\n",
       "      <td>348703</td>\n",
       "      <td>15</td>\n",
       "      <td>2.324687e+04</td>\n",
       "    </tr>\n",
       "    <tr>\n",
       "      <th>131</th>\n",
       "      <td>266785</td>\n",
       "      <td>15</td>\n",
       "      <td>1.778567e+04</td>\n",
       "    </tr>\n",
       "  </tbody>\n",
       "</table>\n",
       "<p>219 rows × 3 columns</p>\n",
       "</div>"
      ],
      "text/plain": [
       "     trips_started  capacity   tripspercap\n",
       "180     1211580292        11  1.101437e+08\n",
       "33      1023355649        15  6.822371e+07\n",
       "83       775969822        15  5.173132e+07\n",
       "23       970199731        19  5.106314e+07\n",
       "199      711718719        15  4.744791e+07\n",
       "18      1576603099        35  4.504580e+07\n",
       "32       517217731        15  3.448118e+07\n",
       "6       1184471371        35  3.384204e+07\n",
       "39       478095841        15  3.187306e+07\n",
       "81       469102415        15  3.127349e+07\n",
       "34       707973619        23  3.078146e+07\n",
       "25       579942878        19  3.052331e+07\n",
       "194      457803241        15  3.052022e+07\n",
       "138      330896854        11  3.008153e+07\n",
       "193      546207731        19  2.874778e+07\n",
       "40       653004167        23  2.839149e+07\n",
       "146      423249661        15  2.821664e+07\n",
       "3        410948581        15  2.739657e+07\n",
       "16       506795472        19  2.667345e+07\n",
       "161      385152647        15  2.567684e+07\n",
       "46       370107451        15  2.467383e+07\n",
       "195      270385194        11  2.458047e+07\n",
       "27       547933876        23  2.382321e+07\n",
       "15       632278759        27  2.341773e+07\n",
       "8        706331521        31  2.278489e+07\n",
       "96       404313862        19  2.127968e+07\n",
       "198      383166864        19  2.016668e+07\n",
       "181      460253341        23  2.001101e+07\n",
       "216      369593500        19  1.945229e+07\n",
       "116      369196282        19  1.943138e+07\n",
       "..             ...       ...           ...\n",
       "184       18200773        11  1.654616e+06\n",
       "74        22915421        15  1.527695e+06\n",
       "148       21202401        15  1.413493e+06\n",
       "87        19883293        15  1.325553e+06\n",
       "176       19031865        15  1.268791e+06\n",
       "136       13085678        11  1.189607e+06\n",
       "150       20864968        19  1.098156e+06\n",
       "71        16202206        15  1.080147e+06\n",
       "157       11874641        11  1.079513e+06\n",
       "77        16037691        15  1.069179e+06\n",
       "191       11273846        11  1.024895e+06\n",
       "207       15215790        15  1.014386e+06\n",
       "218       15050872        15  1.003391e+06\n",
       "90        14757126        15  9.838084e+05\n",
       "182        9844078        11  8.949162e+05\n",
       "132       11445167        15  7.630111e+05\n",
       "192       11315122        15  7.543415e+05\n",
       "109        9813128        15  6.542085e+05\n",
       "217       10632340        19  5.595968e+05\n",
       "205        8195227        15  5.463485e+05\n",
       "183        7587221        15  5.058147e+05\n",
       "62         9116318        19  4.798062e+05\n",
       "65         5927949        15  3.951966e+05\n",
       "97         7494143        19  3.944286e+05\n",
       "149        3664653        15  2.443102e+05\n",
       "134        3406057        15  2.270705e+05\n",
       "173        2434389        15  1.622926e+05\n",
       "43         1421065        19  7.479289e+04\n",
       "158         348703        15  2.324687e+04\n",
       "131         266785        15  1.778567e+04\n",
       "\n",
       "[219 rows x 3 columns]"
      ]
     },
     "execution_count": 14,
     "metadata": {},
     "output_type": "execute_result"
    }
   ],
   "source": [
    "caputil.sort_values(\"tripspercap\", ascending=False)\n"
   ]
  },
  {
   "cell_type": "markdown",
   "metadata": {},
   "source": [
    "**Answer**: station 180 and 33 should see some capacity additions."
   ]
  },
  {
   "cell_type": "markdown",
   "metadata": {},
   "source": [
    "5) Which stations are sources and which stations are sinks? i.e. which stations have much more departures than arrivals, and vice versa. Replot the geographic locations of the stations and using color or size visualize which stations are sources and sinks. Repeat the exercise for only weekday and only weekend trips. Do you see a difference?"
   ]
  },
  {
   "cell_type": "code",
   "execution_count": 15,
   "metadata": {
    "scrolled": true
   },
   "outputs": [
    {
     "data": {
      "text/plain": [
       "Index(['trip_id', 'starttime', 'stoptime', 'bikeid', 'tripduration',\n",
       "       'from_station_id', 'from_station_name', 'to_station_id',\n",
       "       'to_station_name', 'usertype', 'gender', 'birthyear', 'starthalfhour',\n",
       "       'stophalfhour', 'day_of_the_week', 'name', 'latitude', 'longitude',\n",
       "       'dpcapacity'],\n",
       "      dtype='object')"
      ]
     },
     "execution_count": 15,
     "metadata": {},
     "output_type": "execute_result"
    }
   ],
   "source": [
    "trips.columns"
   ]
  },
  {
   "cell_type": "code",
   "execution_count": 32,
   "metadata": {},
   "outputs": [
    {
     "data": {
      "text/plain": [
       "31"
      ]
     },
     "execution_count": 32,
     "metadata": {},
     "output_type": "execute_result"
    }
   ],
   "source": [
    "import datetime, time\n",
    "days = trips[\"starttime\"].max() - trips[\"starttime\"].min()\n",
    "days = days.days+1\n",
    "days"
   ]
  },
  {
   "cell_type": "code",
   "execution_count": 16,
   "metadata": {},
   "outputs": [
    {
     "data": {
      "text/plain": [
       "218"
      ]
     },
     "execution_count": 16,
     "metadata": {},
     "output_type": "execute_result"
    }
   ],
   "source": [
    "len(trips.to_station_id.unique())"
   ]
  },
  {
   "cell_type": "code",
   "execution_count": 48,
   "metadata": {
    "scrolled": true
   },
   "outputs": [
    {
     "data": {
      "text/html": [
       "<div>\n",
       "<style>\n",
       "    .dataframe thead tr:only-child th {\n",
       "        text-align: right;\n",
       "    }\n",
       "\n",
       "    .dataframe thead th {\n",
       "        text-align: left;\n",
       "    }\n",
       "\n",
       "    .dataframe tbody tr th {\n",
       "        vertical-align: top;\n",
       "    }\n",
       "</style>\n",
       "<table border=\"1\" class=\"dataframe\">\n",
       "  <thead>\n",
       "    <tr style=\"text-align: right;\">\n",
       "      <th></th>\n",
       "      <th>net_trips</th>\n",
       "      <th>station_name</th>\n",
       "      <th>source_station</th>\n",
       "    </tr>\n",
       "  </thead>\n",
       "  <tbody>\n",
       "    <tr>\n",
       "      <th>0</th>\n",
       "      <td>-0.774194</td>\n",
       "      <td>900 W Harrison</td>\n",
       "      <td>False</td>\n",
       "    </tr>\n",
       "    <tr>\n",
       "      <th>1</th>\n",
       "      <td>-1.161290</td>\n",
       "      <td>Aberdeen St &amp; Jackson Blvd</td>\n",
       "      <td>False</td>\n",
       "    </tr>\n",
       "    <tr>\n",
       "      <th>2</th>\n",
       "      <td>2.870968</td>\n",
       "      <td>Aberdeen St &amp; Madison St</td>\n",
       "      <td>True</td>\n",
       "    </tr>\n",
       "    <tr>\n",
       "      <th>3</th>\n",
       "      <td>0.129032</td>\n",
       "      <td>Adler Planetarium</td>\n",
       "      <td>True</td>\n",
       "    </tr>\n",
       "    <tr>\n",
       "      <th>4</th>\n",
       "      <td>-0.129032</td>\n",
       "      <td>Ashland Ave &amp; 21st St</td>\n",
       "      <td>False</td>\n",
       "    </tr>\n",
       "  </tbody>\n",
       "</table>\n",
       "</div>"
      ],
      "text/plain": [
       "   net_trips                station_name  source_station\n",
       "0  -0.774194              900 W Harrison           False\n",
       "1  -1.161290  Aberdeen St & Jackson Blvd           False\n",
       "2   2.870968    Aberdeen St & Madison St            True\n",
       "3   0.129032           Adler Planetarium            True\n",
       "4  -0.129032       Ashland Ave & 21st St           False"
      ]
     },
     "execution_count": 48,
     "metadata": {},
     "output_type": "execute_result"
    }
   ],
   "source": [
    "nettrips = trips.groupby([\"to_station_name\"])['trip_id'].count() / days-trips.groupby([\"from_station_name\"])['trip_id'].count() / days\n",
    "#nettrips.reset_index()\n",
    "nettrips = pd.DataFrame(nettrips)\n",
    "nettrips[\"station_name\"] = nettrips.index\n",
    "nettrips.reset_index(level=nettrips.index.names, inplace=True)\n",
    "nettrips.columns = ['net_trips', 'station_name']\n",
    "nettrips[\"source_station\"] = nettrips[\"net_trips\"] >= 0\n",
    "\n",
    "nettrips.head(5)"
   ]
  },
  {
   "cell_type": "code",
   "execution_count": 36,
   "metadata": {},
   "outputs": [
    {
     "data": {
      "text/plain": [
       "Index(['name', 'latitude', 'longitude', 'dpcapacity'], dtype='object')"
      ]
     },
     "execution_count": 36,
     "metadata": {},
     "output_type": "execute_result"
    }
   ],
   "source": [
    "stations.columns"
   ]
  },
  {
   "cell_type": "code",
   "execution_count": 49,
   "metadata": {},
   "outputs": [],
   "source": [
    "dailysinksandsources = pd.merge(stations, nettrips, how='inner', left_on='name', right_on='station_name')"
   ]
  },
  {
   "cell_type": "code",
   "execution_count": 50,
   "metadata": {
    "scrolled": true
   },
   "outputs": [
    {
     "data": {
      "text/html": [
       "<div>\n",
       "<style>\n",
       "    .dataframe thead tr:only-child th {\n",
       "        text-align: right;\n",
       "    }\n",
       "\n",
       "    .dataframe thead th {\n",
       "        text-align: left;\n",
       "    }\n",
       "\n",
       "    .dataframe tbody tr th {\n",
       "        vertical-align: top;\n",
       "    }\n",
       "</style>\n",
       "<table border=\"1\" class=\"dataframe\">\n",
       "  <thead>\n",
       "    <tr style=\"text-align: right;\">\n",
       "      <th></th>\n",
       "      <th>name</th>\n",
       "      <th>latitude</th>\n",
       "      <th>longitude</th>\n",
       "      <th>dpcapacity</th>\n",
       "      <th>net_trips</th>\n",
       "      <th>station_name</th>\n",
       "      <th>source_station</th>\n",
       "    </tr>\n",
       "  </thead>\n",
       "  <tbody>\n",
       "    <tr>\n",
       "      <th>0</th>\n",
       "      <td>State St &amp; Harrison St</td>\n",
       "      <td>41.873958</td>\n",
       "      <td>-87.627739</td>\n",
       "      <td>19</td>\n",
       "      <td>2.935484</td>\n",
       "      <td>State St &amp; Harrison St</td>\n",
       "      <td>True</td>\n",
       "    </tr>\n",
       "    <tr>\n",
       "      <th>1</th>\n",
       "      <td>Wilton Ave &amp; Diversey Pkwy</td>\n",
       "      <td>41.932500</td>\n",
       "      <td>-87.652681</td>\n",
       "      <td>19</td>\n",
       "      <td>6.064516</td>\n",
       "      <td>Wilton Ave &amp; Diversey Pkwy</td>\n",
       "      <td>True</td>\n",
       "    </tr>\n",
       "    <tr>\n",
       "      <th>2</th>\n",
       "      <td>Morgan St &amp; 18th St</td>\n",
       "      <td>41.858086</td>\n",
       "      <td>-87.651073</td>\n",
       "      <td>15</td>\n",
       "      <td>0.580645</td>\n",
       "      <td>Morgan St &amp; 18th St</td>\n",
       "      <td>True</td>\n",
       "    </tr>\n",
       "    <tr>\n",
       "      <th>3</th>\n",
       "      <td>Racine Ave &amp; 18th St</td>\n",
       "      <td>41.858181</td>\n",
       "      <td>-87.656487</td>\n",
       "      <td>15</td>\n",
       "      <td>0.387097</td>\n",
       "      <td>Racine Ave &amp; 18th St</td>\n",
       "      <td>True</td>\n",
       "    </tr>\n",
       "    <tr>\n",
       "      <th>4</th>\n",
       "      <td>Wood St &amp; North Ave</td>\n",
       "      <td>41.910329</td>\n",
       "      <td>-87.672516</td>\n",
       "      <td>15</td>\n",
       "      <td>-0.645161</td>\n",
       "      <td>Wood St &amp; North Ave</td>\n",
       "      <td>False</td>\n",
       "    </tr>\n",
       "  </tbody>\n",
       "</table>\n",
       "</div>"
      ],
      "text/plain": [
       "                         name   latitude  longitude  dpcapacity  net_trips  \\\n",
       "0      State St & Harrison St  41.873958 -87.627739          19   2.935484   \n",
       "1  Wilton Ave & Diversey Pkwy  41.932500 -87.652681          19   6.064516   \n",
       "2         Morgan St & 18th St  41.858086 -87.651073          15   0.580645   \n",
       "3        Racine Ave & 18th St  41.858181 -87.656487          15   0.387097   \n",
       "4         Wood St & North Ave  41.910329 -87.672516          15  -0.645161   \n",
       "\n",
       "                 station_name  source_station  \n",
       "0      State St & Harrison St            True  \n",
       "1  Wilton Ave & Diversey Pkwy            True  \n",
       "2         Morgan St & 18th St            True  \n",
       "3        Racine Ave & 18th St            True  \n",
       "4         Wood St & North Ave           False  "
      ]
     },
     "execution_count": 50,
     "metadata": {},
     "output_type": "execute_result"
    }
   ],
   "source": [
    "dailysinksandsources.head(5)"
   ]
  },
  {
   "cell_type": "code",
   "execution_count": 71,
   "metadata": {},
   "outputs": [],
   "source": [
    "dailysources = dailysinksandsources[dailysinksandsources[\"source_station\"] == True]\n",
    "dailysinks = dailysinksandsources[dailysinksandsources[\"source_station\"] == False]"
   ]
  },
  {
   "cell_type": "code",
   "execution_count": 59,
   "metadata": {},
   "outputs": [
    {
     "data": {
      "text/html": [
       "<div>\n",
       "<style>\n",
       "    .dataframe thead tr:only-child th {\n",
       "        text-align: right;\n",
       "    }\n",
       "\n",
       "    .dataframe thead th {\n",
       "        text-align: left;\n",
       "    }\n",
       "\n",
       "    .dataframe tbody tr th {\n",
       "        vertical-align: top;\n",
       "    }\n",
       "</style>\n",
       "<table border=\"1\" class=\"dataframe\">\n",
       "  <thead>\n",
       "    <tr style=\"text-align: right;\">\n",
       "      <th></th>\n",
       "      <th>name</th>\n",
       "      <th>latitude</th>\n",
       "      <th>longitude</th>\n",
       "      <th>dpcapacity</th>\n",
       "      <th>net_trips</th>\n",
       "      <th>station_name</th>\n",
       "      <th>source_station</th>\n",
       "    </tr>\n",
       "  </thead>\n",
       "  <tbody>\n",
       "    <tr>\n",
       "      <th>0</th>\n",
       "      <td>State St &amp; Harrison St</td>\n",
       "      <td>41.873958</td>\n",
       "      <td>-87.627739</td>\n",
       "      <td>19</td>\n",
       "      <td>2.935484</td>\n",
       "      <td>State St &amp; Harrison St</td>\n",
       "      <td>True</td>\n",
       "    </tr>\n",
       "    <tr>\n",
       "      <th>1</th>\n",
       "      <td>Wilton Ave &amp; Diversey Pkwy</td>\n",
       "      <td>41.932500</td>\n",
       "      <td>-87.652681</td>\n",
       "      <td>19</td>\n",
       "      <td>6.064516</td>\n",
       "      <td>Wilton Ave &amp; Diversey Pkwy</td>\n",
       "      <td>True</td>\n",
       "    </tr>\n",
       "    <tr>\n",
       "      <th>2</th>\n",
       "      <td>Morgan St &amp; 18th St</td>\n",
       "      <td>41.858086</td>\n",
       "      <td>-87.651073</td>\n",
       "      <td>15</td>\n",
       "      <td>0.580645</td>\n",
       "      <td>Morgan St &amp; 18th St</td>\n",
       "      <td>True</td>\n",
       "    </tr>\n",
       "    <tr>\n",
       "      <th>3</th>\n",
       "      <td>Racine Ave &amp; 18th St</td>\n",
       "      <td>41.858181</td>\n",
       "      <td>-87.656487</td>\n",
       "      <td>15</td>\n",
       "      <td>0.387097</td>\n",
       "      <td>Racine Ave &amp; 18th St</td>\n",
       "      <td>True</td>\n",
       "    </tr>\n",
       "    <tr>\n",
       "      <th>5</th>\n",
       "      <td>Wood St &amp; Division St</td>\n",
       "      <td>41.903320</td>\n",
       "      <td>-87.672730</td>\n",
       "      <td>15</td>\n",
       "      <td>2.483871</td>\n",
       "      <td>Wood St &amp; Division St</td>\n",
       "      <td>True</td>\n",
       "    </tr>\n",
       "  </tbody>\n",
       "</table>\n",
       "</div>"
      ],
      "text/plain": [
       "                         name   latitude  longitude  dpcapacity  net_trips  \\\n",
       "0      State St & Harrison St  41.873958 -87.627739          19   2.935484   \n",
       "1  Wilton Ave & Diversey Pkwy  41.932500 -87.652681          19   6.064516   \n",
       "2         Morgan St & 18th St  41.858086 -87.651073          15   0.580645   \n",
       "3        Racine Ave & 18th St  41.858181 -87.656487          15   0.387097   \n",
       "5       Wood St & Division St  41.903320 -87.672730          15   2.483871   \n",
       "\n",
       "                 station_name  source_station  \n",
       "0      State St & Harrison St            True  \n",
       "1  Wilton Ave & Diversey Pkwy            True  \n",
       "2         Morgan St & 18th St            True  \n",
       "3        Racine Ave & 18th St            True  \n",
       "5       Wood St & Division St            True  "
      ]
     },
     "execution_count": 59,
     "metadata": {},
     "output_type": "execute_result"
    }
   ],
   "source": [
    "dailysources.head(5)"
   ]
  },
  {
   "cell_type": "code",
   "execution_count": 127,
   "metadata": {},
   "outputs": [
    {
     "data": {
      "image/png": "[encoded data removed]",
      "text/plain": [
       "<matplotlib.figure.Figure at 0x23bb4cce240>"
      ]
     },
     "metadata": {},
     "output_type": "display_data"
    }
   ],
   "source": [
    "fig, ax = plt.subplots()\n",
    "\n",
    "ax.scatter(dailysources['longitude'], dailysources['latitude'], s = dailysources['net_trips']*5, c = \"k\", label = \"sinks\")\n",
    "ax.scatter(dailysinks['longitude'], dailysinks['latitude'], s = dailysinks['net_trips']*(-5), c = \"r\", label = \"sources\")\n",
    "ax.grid(True)\n",
    "plt.legend(loc='lower left')\n",
    "plt.title(\"Source and sink stations in the Chicago Divvy network\")\n",
    "plt.show()"
   ]
  },
  {
   "cell_type": "code",
   "execution_count": 95,
   "metadata": {},
   "outputs": [
    {
     "data": {
      "text/plain": [
       "106897"
      ]
     },
     "execution_count": 95,
     "metadata": {},
     "output_type": "execute_result"
    }
   ],
   "source": [
    "trips_weekdays = trips[trips['day_of_the_week'] < 5]\n",
    "len(trips_weekdays)"
   ]
  },
  {
   "cell_type": "code",
   "execution_count": 89,
   "metadata": {
    "collapsed": true
   },
   "outputs": [],
   "source": [
    "nettrips_weekdays = trips_weekdays.groupby([\"to_station_name\"])['trip_id'].count() / days-trips_weekdays.groupby([\"from_station_name\"])['trip_id'].count() / days\n",
    "#nettrips_weekdays.reset_index()\n",
    "nettrips_weekdays = pd.DataFrame(nettrips_weekdays)\n",
    "nettrips_weekdays[\"station_name\"] = nettrips_weekdays.index\n",
    "nettrips_weekdays.reset_index(level=nettrips_weekdays.index.names, inplace=True)\n",
    "nettrips_weekdays.columns = ['net_trips_weekdays', 'station_name']\n",
    "nettrips_weekdays[\"source_station\"] = nettrips_weekdays[\"net_trips_weekdays\"] >= 0"
   ]
  },
  {
   "cell_type": "code",
   "execution_count": 104,
   "metadata": {
    "collapsed": true
   },
   "outputs": [],
   "source": [
    "weekdaysinksandsources = pd.merge(stations, nettrips_weekdays, how='inner', left_on='name', right_on='station_name')"
   ]
  },
  {
   "cell_type": "code",
   "execution_count": 98,
   "metadata": {
    "collapsed": true
   },
   "outputs": [],
   "source": [
    "weekdaysources = weekdaysinksandsources[weekdaysinksandsources[\"source_station\"] == True]\n",
    "weekdaysinks = weekdaysinksandsources[weekdaysinksandsources[\"source_station\"] == False]"
   ]
  },
  {
   "cell_type": "code",
   "execution_count": 128,
   "metadata": {},
   "outputs": [
    {
     "data": {
      "image/png": "[encoded data removed]",
      "text/plain": [
       "<matplotlib.figure.Figure at 0x23bb53d6a90>"
      ]
     },
     "metadata": {},
     "output_type": "display_data"
    }
   ],
   "source": [
    "fig, ax = plt.subplots()\n",
    "\n",
    "ax.scatter(weekdaysources['longitude'], weekdaysources['latitude'], s = weekdaysources['net_trips_weekdays']*5, c = \"k\", label = \"sinks\")\n",
    "ax.scatter(weekdaysinks['longitude'], weekdaysinks['latitude'], s = weekdaysinks['net_trips_weekdays']*(-5), c = \"r\", label = \"sources\")\n",
    "ax.grid(True)\n",
    "plt.legend(loc='lower left')\n",
    "plt.title(\"Source and sink stations in the Chicago Divvy network\\n- weekdays only -\")\n",
    "plt.show()"
   ]
  },
  {
   "cell_type": "code",
   "execution_count": 94,
   "metadata": {},
   "outputs": [
    {
     "data": {
      "text/plain": [
       "63611"
      ]
     },
     "execution_count": 94,
     "metadata": {},
     "output_type": "execute_result"
    }
   ],
   "source": [
    "trips_weekends = trips[trips['day_of_the_week'] > 4]\n",
    "len(trips_weekends)"
   ]
  },
  {
   "cell_type": "code",
   "execution_count": 96,
   "metadata": {
    "collapsed": true
   },
   "outputs": [],
   "source": [
    "nettrips_weekends = trips_weekends.groupby([\"to_station_name\"])['trip_id'].count() / days-trips_weekends.groupby([\"from_station_name\"])['trip_id'].count() / days\n",
    "#nettrips_weekends.reset_index()\n",
    "nettrips_weekends = pd.DataFrame(nettrips_weekends)\n",
    "nettrips_weekends[\"station_name\"] = nettrips_weekends.index\n",
    "nettrips_weekends.reset_index(level=nettrips_weekends.index.names, inplace=True)\n",
    "nettrips_weekends.columns = ['net_trips_weekends', 'station_name']\n",
    "nettrips_weekends[\"source_station\"] = nettrips_weekends[\"net_trips_weekends\"] >= 0"
   ]
  },
  {
   "cell_type": "code",
   "execution_count": 105,
   "metadata": {
    "collapsed": true
   },
   "outputs": [],
   "source": [
    "weekendsinksandsources = pd.merge(stations, nettrips_weekends, how='inner', left_on='name', right_on='station_name')"
   ]
  },
  {
   "cell_type": "code",
   "execution_count": 106,
   "metadata": {
    "collapsed": true
   },
   "outputs": [],
   "source": [
    "weekendsources = weekendsinksandsources[weekendsinksandsources[\"source_station\"] == True]\n",
    "weekendsinks = weekendsinksandsources[weekendsinksandsources[\"source_station\"] == False]"
   ]
  },
  {
   "cell_type": "code",
   "execution_count": 129,
   "metadata": {},
   "outputs": [
    {
     "data": {
      "image/png": "[encoded data removed]",
      "text/plain": [
       "<matplotlib.figure.Figure at 0x23bb54d4668>"
      ]
     },
     "metadata": {},
     "output_type": "display_data"
    }
   ],
   "source": [
    "fig, ax = plt.subplots()\n",
    "\n",
    "ax.scatter(weekendsources['longitude'], weekendsources['latitude'], s = weekendsources['net_trips_weekends']*5, c = \"k\", label = \"sinks\")\n",
    "ax.scatter(weekendsinks['longitude'], weekendsinks['latitude'], s = weekendsinks['net_trips_weekends']*(-5), c = \"r\", label = \"sources\")\n",
    "ax.grid(True)\n",
    "plt.legend(loc='lower left')\n",
    "plt.title(\"Source and sink stations in the Chicago Divvy network\\n- weekends only -\")\n",
    "plt.show()"
   ]
  },
  {
   "cell_type": "markdown",
   "metadata": {},
   "source": [
    "The difference mainly comes in the long(-87.64 - -87.64) lat (41.875 - 41.890) area where you have where the source stations see less negative traffic."
   ]
  },
  {
   "cell_type": "markdown",
   "metadata": {},
   "source": [
    "Note: I defined sinks and sources the other way around in the code and I just realized it at the end. I decided to switch the labels and keep the code unchanged. This way the variable names are somehow misleading but it does not affect the visual representations."
   ]
  },
  {
   "cell_type": "code",
   "execution_count": null,
   "metadata": {
    "collapsed": true
   },
   "outputs": [],
   "source": []
  }
 ],
 "metadata": {
  "kernelspec": {
   "display_name": "Python 3",
   "language": "python",
   "name": "python3"
  },
  "language_info": {
   "codemirror_mode": {
    "name": "ipython",
    "version": 3
   },
   "file_extension": ".py",
   "mimetype": "text/x-python",
   "name": "python",
   "nbconvert_exporter": "python",
   "pygments_lexer": "ipython3",
   "version": "3.6.1"
  }
 },
 "nbformat": 4,
 "nbformat_minor": 2
}
