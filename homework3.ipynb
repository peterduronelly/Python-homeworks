{
 "cells": [
  {
   "cell_type": "markdown",
   "metadata": {},
   "source": [
    "<div class=\"frontmatter text-center\">\n",
    "<h2> MATH5027 Scientific Python, Fall 2017</h2>\n",
    "<h2> Homework 3, Due: Tuesday October 10th, 3pm </h2>\n",
    "</div>\n",
    "\n",
    "Instructions: complete the selection of exercises from the week's class notebooks. Use markdown cells between code examples to explain."
   ]
  },
  {
   "cell_type": "markdown",
   "metadata": {},
   "source": [
    "## Questions \n",
    "### From Class 4:\n",
    "\n",
    "1) Write a Python program to concatenate following dictionaries to create a new one.\n",
    "\n",
    "Sample Dictionary: \n",
    "\n",
    "``dic1={1:10, 2:20} \n",
    "dic2={3:30, 4:40} \n",
    "dic3={5:50,6:60} ``\n",
    "\n",
    "_Hint_: Have a look at the documentation for dict.update().\n",
    "\n",
    "2) Write a Python program to map two lists into a dictionary. For example:\n",
    "```keys = ['red', 'green', 'blue']  \n",
    "values = ['#FF0000','#008000', '#0000FF']  ```\n",
    "\n",
    "should become:\n",
    "```{'blue': '#0000FF', 'green': '#008000', 'red': '#FF0000'}```\n",
    "\n",
    "Try to use a dictionary comprehension.\n",
    "\n",
    "3) Write a Python program to multiply all the values in a dictionary, assuming you have a dictionary with floats or ints as your values.\n",
    "\n",
    "4) Write a ***function*** to print keys and values of a dictionary:\n",
    "* sorted by key\n",
    "* sorted by value\n",
    "\n",
    "_Hint_: there are many ways to do this, but give it a try with lambda functions."
   ]
  },
  {
   "cell_type": "markdown",
   "metadata": {},
   "source": [
    "\n",
    "### From Class 5:\n",
    "\n",
    "1) Create the list flips with a one-liner (hint: use list comprehension and google how to use if/else statements within the comprehension).\n",
    "\n",
    "2) What type of variable is run2count? Can you do casting (i.e. can you change the type to something more familiar)?\n",
    "\n",
    "3) Write code to create a dictionary like run2count, without using Counter\n",
    "\n",
    "4) Take the logarithms of the number of runs and plot that vs run length\n",
    "_Note_: writing ```log(count)``` will return an error. The goal of the exercise is to find the solution to this :)\n",
    "\n",
    "5) Use ```semilogy``` to put the y-axis in a log scale\n",
    "\n",
    "6) Figure out how to plot the x-axis in log scale, then both axes.\n"
   ]
  },
  {
   "cell_type": "markdown",
   "metadata": {},
   "source": [
    "Class 4\n",
    "--------"
   ]
  },
  {
   "cell_type": "markdown",
   "metadata": {},
   "source": [
    "### Assigment 1"
   ]
  },
  {
   "cell_type": "code",
   "execution_count": 1,
   "metadata": {},
   "outputs": [
    {
     "data": {
      "text/plain": [
       "{1: 10, 2: 20, 3: 30, 4: 40, 5: 50, 6: 60}"
      ]
     },
     "execution_count": 1,
     "metadata": {},
     "output_type": "execute_result"
    }
   ],
   "source": [
    "dic1={1:10, 2:20} \n",
    "dic2={3:30, 4:40} \n",
    "dic3={5:50,6:60}\n",
    "dic1.update(dic2)\n",
    "dic1.update(dic3)\n",
    "dic1"
   ]
  },
  {
   "cell_type": "markdown",
   "metadata": {},
   "source": [
    "### Assigment 2"
   ]
  },
  {
   "cell_type": "code",
   "execution_count": 2,
   "metadata": {},
   "outputs": [
    {
     "data": {
      "text/plain": [
       "{'blue': '#0000FF', 'green': '#008000', 'red': '#FF0000'}"
      ]
     },
     "execution_count": 2,
     "metadata": {},
     "output_type": "execute_result"
    }
   ],
   "source": [
    "keys = ['red', 'green', 'blue']  \n",
    "values = ['#FF0000','#008000', '#0000FF']\n",
    "\n",
    "RGB = dict(zip(keys, values))\n",
    "RGB"
   ]
  },
  {
   "cell_type": "markdown",
   "metadata": {},
   "source": [
    "### Assigment 3 & 4"
   ]
  },
  {
   "cell_type": "code",
   "execution_count": 2,
   "metadata": {},
   "outputs": [
    {
     "name": "stdout",
     "output_type": "stream",
     "text": [
      "Sorted by keys:\n",
      "one 2\n",
      "three 6\n",
      "two 4\n",
      "---------\n",
      "Sorted by values:\n",
      "one 2\n",
      "two 4\n",
      "three 6\n"
     ]
    }
   ],
   "source": [
    "nums = {\"one\": 1, \"two\": 2,\"three\": 3}\n",
    "\n",
    "for key in nums:\n",
    "    nums[key] = nums[key] * 2\n",
    "\n",
    "    # Printing by keys\n",
    "print(\"Sorted by keys:\")\n",
    "for keys, values in sorted(nums.items(), key = lambda x: x[0]):\n",
    "    print(keys, values)\n",
    "print(\"---------\")\n",
    "\n",
    "# Printing by values\n",
    "print(\"Sorted by values:\")\n",
    "for keys, values in sorted(nums.items(), key = lambda x: x[1]):\n",
    "    print(keys, values)"
   ]
  },
  {
   "cell_type": "markdown",
   "metadata": {},
   "source": [
    "### Assigment 4"
   ]
  },
  {
   "cell_type": "code",
   "execution_count": 3,
   "metadata": {},
   "outputs": [
    {
     "name": "stdout",
     "output_type": "stream",
     "text": [
      "one 2\n",
      "three 6\n",
      "two 4\n"
     ]
    }
   ],
   "source": [
    "def sortedbykeys (dikt):\n",
    "    for keys, values in sorted(dikt.items(), key = lambda x: x[0]):\n",
    "        print(keys, values)\n",
    "    return\n",
    "sortedbykeys(nums)"
   ]
  },
  {
   "cell_type": "code",
   "execution_count": 4,
   "metadata": {},
   "outputs": [
    {
     "name": "stdout",
     "output_type": "stream",
     "text": [
      "one 2\n",
      "two 4\n",
      "three 6\n"
     ]
    }
   ],
   "source": [
    "def sortedbyvalues (dikt):\n",
    "    for keys, values in sorted(dikt.items(), key = lambda x: x[1]):\n",
    "        print(keys, values)\n",
    "    return\n",
    "sortedbyvalues(nums)"
   ]
  },
  {
   "cell_type": "markdown",
   "metadata": {},
   "source": [
    "Class 5\n",
    "----------"
   ]
  },
  {
   "cell_type": "markdown",
   "metadata": {},
   "source": [
    "### Assigment 1"
   ]
  },
  {
   "cell_type": "code",
   "execution_count": 22,
   "metadata": {},
   "outputs": [
    {
     "name": "stdout",
     "output_type": "stream",
     "text": [
      "['H', 'H', 'H', 'T', 'H', 'H', 'H', 'H', 'H', 'T', 'T', 'T', 'H', 'H', 'H', 'H', 'H', 'H', 'H', 'H', 'T', 'H', 'H', 'H', 'H', 'H', 'H', 'T', 'T', 'T']\n"
     ]
    }
   ],
   "source": [
    "import random\n",
    "p = 0.6\n",
    "flips = [\"H\" if random.random() < p else \"T\" for _ in range(1000)]\n",
    "print(flips[:30])"
   ]
  },
  {
   "cell_type": "markdown",
   "metadata": {},
   "source": [
    "### Assigment 2"
   ]
  },
  {
   "cell_type": "code",
   "execution_count": 23,
   "metadata": {},
   "outputs": [
    {
     "name": "stdout",
     "output_type": "stream",
     "text": [
      "[3, 5, 8, 6, 1]\n"
     ]
    }
   ],
   "source": [
    "series = \"\".join(flips)\n",
    "heads = series.split(\"T\")\n",
    "heads_length = [len(run) for run in heads if run]\n",
    "print(heads_length[:5])"
   ]
  },
  {
   "cell_type": "code",
   "execution_count": 24,
   "metadata": {},
   "outputs": [
    {
     "name": "stdout",
     "output_type": "stream",
     "text": [
      "Counter({1: 99, 2: 56, 3: 33, 4: 17, 5: 13, 6: 10, 8: 4, 7: 2, 10: 2, 11: 1, 14: 1})\n"
     ]
    }
   ],
   "source": [
    "from collections import Counter\n",
    "run2count = Counter(heads_length)\n",
    "print(run2count)"
   ]
  },
  {
   "cell_type": "code",
   "execution_count": 25,
   "metadata": {},
   "outputs": [
    {
     "data": {
      "text/plain": [
       "collections.Counter"
      ]
     },
     "execution_count": 25,
     "metadata": {},
     "output_type": "execute_result"
    }
   ],
   "source": [
    "type(run2count)"
   ]
  },
  {
   "cell_type": "code",
   "execution_count": 38,
   "metadata": {
    "scrolled": true
   },
   "outputs": [
    {
     "name": "stdout",
     "output_type": "stream",
     "text": [
      "1 : 99\n",
      "2 : 56\n",
      "3 : 33\n",
      "4 : 17\n",
      "5 : 13\n",
      "6 : 10\n",
      "7 : 2\n",
      "8 : 4\n",
      "10 : 2\n",
      "11 : 1\n",
      "14 : 1\n"
     ]
    }
   ],
   "source": [
    "# collections.Counter can be type-casted into dict\n",
    "headruns = dict(run2count)\n",
    "for key, value in sorted(headruns.items(), key = lambda x: x[0]):\n",
    "    print(key, \":\",value)"
   ]
  },
  {
   "cell_type": "markdown",
   "metadata": {},
   "source": [
    "### Assigment 3"
   ]
  },
  {
   "cell_type": "code",
   "execution_count": 92,
   "metadata": {},
   "outputs": [
    {
     "name": "stdout",
     "output_type": "stream",
     "text": [
      "Frequencies: [99, 56, 33, 17, 13, 10, 2, 4, 0, 2, 1, 0, 0, 1]\n",
      "The rundict dictionary: {1: 99, 2: 56, 3: 33, 4: 17, 5: 13, 6: 10, 7: 2, 8: 4, 9: 0, 10: 2, 11: 1, 12: 0, 13: 0, 14: 1}\n"
     ]
    }
   ],
   "source": [
    "m = max(heads_length)\n",
    "frequencies = [] # a list of frequencies of runs of certain lengths\n",
    "runs =  [] # the potential length of runs\n",
    "ctr = 0\n",
    "for i in range(1, m+1):\n",
    "    for x in heads_length:\n",
    "        if x == i:\n",
    "            ctr = ctr + 1\n",
    "    frequencies.append(ctr)\n",
    "    runs.append(i)\n",
    "    ctr = 0\n",
    "\n",
    "print(\"Frequencies:\",frequencies) # printing the list of frequencies\n",
    "\n",
    "rundict = dict(zip(runs, frequencies)) # creating a dictionary of the list of potential lengths and the number of runs per lentgh\n",
    "print(\"The rundict dictionary:\", rundict)\n",
    "\n"
   ]
  },
  {
   "cell_type": "markdown",
   "metadata": {},
   "source": [
    "### Assigment 4"
   ]
  },
  {
   "cell_type": "code",
   "execution_count": 63,
   "metadata": {
    "collapsed": true
   },
   "outputs": [],
   "source": [
    "import matplotlib\n",
    "import matplotlib.pyplot as plt\n",
    "%matplotlib inline"
   ]
  },
  {
   "cell_type": "code",
   "execution_count": 84,
   "metadata": {
    "scrolled": true
   },
   "outputs": [
    {
     "data": {
      "text/plain": [
       "<matplotlib.text.Text at 0x198f6c42860>"
      ]
     },
     "execution_count": 84,
     "metadata": {},
     "output_type": "execute_result"
    },
    {
     "data": {
      "image/png": "[encoded data removed]",
      "text/plain": [
       "<matplotlib.figure.Figure at 0x198f6f995f8>"
      ]
     },
     "metadata": {},
     "output_type": "display_data"
    }
   ],
   "source": [
    "logfrequencies = []\n",
    "import math\n",
    "for x in frequencies:\n",
    "    if x == 0:\n",
    "        logfrequencies.append(x)\n",
    "    else:\n",
    "        logfrequencies.append(math.log(x))\n",
    "\n",
    "plt.figure()\n",
    "plt.plot(runs, logfrequencies,\"b\")\n",
    "plt.xlabel(\"run lengths\")\n",
    "plt.ylabel(\"log of frequencies\")\n",
    "plt.title(\"Log of frequencies of different Head run lengths\")"
   ]
  },
  {
   "cell_type": "markdown",
   "metadata": {},
   "source": [
    "### Assignment 5"
   ]
  },
  {
   "cell_type": "code",
   "execution_count": 83,
   "metadata": {},
   "outputs": [
    {
     "data": {
      "text/plain": [
       "<matplotlib.text.Text at 0x198f6e7f198>"
      ]
     },
     "execution_count": 83,
     "metadata": {},
     "output_type": "execute_result"
    },
    {
     "data": {
      "image/png": "[encoded data removed]",
      "text/plain": [
       "<matplotlib.figure.Figure at 0x198f5664080>"
      ]
     },
     "metadata": {},
     "output_type": "display_data"
    }
   ],
   "source": [
    "plt.figure()\n",
    "plt.semilogy(runs, frequencies, \"g\")\n",
    "plt.xlabel(\"Run lengths\")\n",
    "plt.ylabel(\"Frequencies (log scale)\")\n",
    "plt.title(\"Frequencies of different Head run lengths\")"
   ]
  },
  {
   "cell_type": "markdown",
   "metadata": {},
   "source": [
    "### Assignment 6"
   ]
  },
  {
   "cell_type": "code",
   "execution_count": 90,
   "metadata": {},
   "outputs": [
    {
     "data": {
      "text/plain": [
       "<matplotlib.text.Text at 0x198f6d2e2e8>"
      ]
     },
     "execution_count": 90,
     "metadata": {},
     "output_type": "execute_result"
    },
    {
     "data": {
      "image/png": "[encoded data removed]",
      "text/plain": [
       "<matplotlib.figure.Figure at 0x198f6f2c278>"
      ]
     },
     "metadata": {},
     "output_type": "display_data"
    }
   ],
   "source": [
    "plt.figure()\n",
    "plt.loglog(runs, logfrequencies, \"y\")\n",
    "plt.xlabel(\"Run lengths (log scale)\")\n",
    "plt.ylabel(\"Frequencies (log scale)\")\n",
    "plt.title(\"Frequencies of different Head run lengths\")"
   ]
  },
  {
   "cell_type": "code",
   "execution_count": null,
   "metadata": {
    "collapsed": true
   },
   "outputs": [],
   "source": []
  }
 ],
 "metadata": {
  "kernelspec": {
   "display_name": "Python 3",
   "language": "python",
   "name": "python3"
  },
  "language_info": {
   "codemirror_mode": {
    "name": "ipython",
    "version": 3
   },
   "file_extension": ".py",
   "mimetype": "text/x-python",
   "name": "python",
   "nbconvert_exporter": "python",
   "pygments_lexer": "ipython3",
   "version": "3.6.1"
  }
 },
 "nbformat": 4,
 "nbformat_minor": 2
}
